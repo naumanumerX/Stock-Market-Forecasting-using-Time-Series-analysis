{
 "cells": [
  {
   "cell_type": "code",
   "execution_count": 1,
   "id": "105883fa",
   "metadata": {},
   "outputs": [],
   "source": [
    "import pandas as pd\n",
    "import numpy as np\n",
    "import matplotlib.pyplot as plt\n",
    "import seaborn as sns\n",
    "from pmdarima import auto_arima\n",
    "from sklearn.preprocessing import MinMaxScaler\n",
    "from statsmodels.tsa.stattools import adfuller\n",
    "from statsmodels.tsa.arima_model import ARIMA\n",
    "import warnings\n",
    "warnings.filterwarnings(\"ignore\")\n"
   ]
  },
  {
   "cell_type": "code",
   "execution_count": 2,
   "id": "dd8faef5",
   "metadata": {},
   "outputs": [],
   "source": [
    "df=pd.read_csv('meezan Bank.csv')"
   ]
  },
  {
   "cell_type": "code",
   "execution_count": 3,
   "id": "1bceddd4",
   "metadata": {},
   "outputs": [
    {
     "data": {
      "text/html": [
       "<div>\n",
       "<style scoped>\n",
       "    .dataframe tbody tr th:only-of-type {\n",
       "        vertical-align: middle;\n",
       "    }\n",
       "\n",
       "    .dataframe tbody tr th {\n",
       "        vertical-align: top;\n",
       "    }\n",
       "\n",
       "    .dataframe thead th {\n",
       "        text-align: right;\n",
       "    }\n",
       "</style>\n",
       "<table border=\"1\" class=\"dataframe\">\n",
       "  <thead>\n",
       "    <tr style=\"text-align: right;\">\n",
       "      <th></th>\n",
       "      <th>Date</th>\n",
       "      <th>series-0- price</th>\n",
       "      <th>high</th>\n",
       "      <th>low</th>\n",
       "      <th>open</th>\n",
       "      <th>close</th>\n",
       "    </tr>\n",
       "  </thead>\n",
       "  <tbody>\n",
       "    <tr>\n",
       "      <th>0</th>\n",
       "      <td>Thu Jun 18 2015</td>\n",
       "      <td>25.76</td>\n",
       "      <td>25.92</td>\n",
       "      <td>25.60</td>\n",
       "      <td>25.61</td>\n",
       "      <td>25.76</td>\n",
       "    </tr>\n",
       "    <tr>\n",
       "      <th>1</th>\n",
       "      <td>Fri Jun 19 2015</td>\n",
       "      <td>25.60</td>\n",
       "      <td>25.76</td>\n",
       "      <td>25.60</td>\n",
       "      <td>25.76</td>\n",
       "      <td>25.12</td>\n",
       "    </tr>\n",
       "    <tr>\n",
       "      <th>2</th>\n",
       "      <td>Mon Jun 22 2015</td>\n",
       "      <td>25.45</td>\n",
       "      <td>25.60</td>\n",
       "      <td>25.34</td>\n",
       "      <td>25.12</td>\n",
       "      <td>25.28</td>\n",
       "    </tr>\n",
       "    <tr>\n",
       "      <th>3</th>\n",
       "      <td>Tue Jun 23 2015</td>\n",
       "      <td>25.20</td>\n",
       "      <td>25.53</td>\n",
       "      <td>24.96</td>\n",
       "      <td>25.28</td>\n",
       "      <td>25.53</td>\n",
       "    </tr>\n",
       "    <tr>\n",
       "      <th>4</th>\n",
       "      <td>Wed Jun 24 2015</td>\n",
       "      <td>25.06</td>\n",
       "      <td>25.53</td>\n",
       "      <td>24.96</td>\n",
       "      <td>25.53</td>\n",
       "      <td>25.08</td>\n",
       "    </tr>\n",
       "    <tr>\n",
       "      <th>...</th>\n",
       "      <td>...</td>\n",
       "      <td>...</td>\n",
       "      <td>...</td>\n",
       "      <td>...</td>\n",
       "      <td>...</td>\n",
       "      <td>...</td>\n",
       "    </tr>\n",
       "    <tr>\n",
       "      <th>1569</th>\n",
       "      <td>Thu Nov 25 2021</td>\n",
       "      <td>148.00</td>\n",
       "      <td>148.95</td>\n",
       "      <td>146.50</td>\n",
       "      <td>147.00</td>\n",
       "      <td>147.75</td>\n",
       "    </tr>\n",
       "    <tr>\n",
       "      <th>1570</th>\n",
       "      <td>Fri Nov 26 2021</td>\n",
       "      <td>148.55</td>\n",
       "      <td>149.00</td>\n",
       "      <td>147.00</td>\n",
       "      <td>147.75</td>\n",
       "      <td>148.01</td>\n",
       "    </tr>\n",
       "    <tr>\n",
       "      <th>1571</th>\n",
       "      <td>Mon Nov 29 2021</td>\n",
       "      <td>150.50</td>\n",
       "      <td>158.90</td>\n",
       "      <td>147.10</td>\n",
       "      <td>148.01</td>\n",
       "      <td>151.00</td>\n",
       "    </tr>\n",
       "    <tr>\n",
       "      <th>1572</th>\n",
       "      <td>Tue Nov 30 2021</td>\n",
       "      <td>149.00</td>\n",
       "      <td>151.00</td>\n",
       "      <td>148.00</td>\n",
       "      <td>151.00</td>\n",
       "      <td>148.50</td>\n",
       "    </tr>\n",
       "    <tr>\n",
       "      <th>1573</th>\n",
       "      <td>Wed Dec 01 2021</td>\n",
       "      <td>149.05</td>\n",
       "      <td>150.00</td>\n",
       "      <td>147.50</td>\n",
       "      <td>148.50</td>\n",
       "      <td>149.00</td>\n",
       "    </tr>\n",
       "  </tbody>\n",
       "</table>\n",
       "<p>1574 rows × 6 columns</p>\n",
       "</div>"
      ],
      "text/plain": [
       "                 Date  series-0- price    high     low    open   close\n",
       "0     Thu Jun 18 2015            25.76   25.92   25.60   25.61   25.76\n",
       "1     Fri Jun 19 2015            25.60   25.76   25.60   25.76   25.12\n",
       "2     Mon Jun 22 2015            25.45   25.60   25.34   25.12   25.28\n",
       "3     Tue Jun 23 2015            25.20   25.53   24.96   25.28   25.53\n",
       "4     Wed Jun 24 2015            25.06   25.53   24.96   25.53   25.08\n",
       "...               ...              ...     ...     ...     ...     ...\n",
       "1569  Thu Nov 25 2021           148.00  148.95  146.50  147.00  147.75\n",
       "1570  Fri Nov 26 2021           148.55  149.00  147.00  147.75  148.01\n",
       "1571  Mon Nov 29 2021           150.50  158.90  147.10  148.01  151.00\n",
       "1572  Tue Nov 30 2021           149.00  151.00  148.00  151.00  148.50\n",
       "1573  Wed Dec 01 2021           149.05  150.00  147.50  148.50  149.00\n",
       "\n",
       "[1574 rows x 6 columns]"
      ]
     },
     "execution_count": 3,
     "metadata": {},
     "output_type": "execute_result"
    }
   ],
   "source": [
    "df"
   ]
  },
  {
   "cell_type": "code",
   "execution_count": 4,
   "id": "8cc8134b",
   "metadata": {},
   "outputs": [
    {
     "data": {
      "text/html": [
       "<div>\n",
       "<style scoped>\n",
       "    .dataframe tbody tr th:only-of-type {\n",
       "        vertical-align: middle;\n",
       "    }\n",
       "\n",
       "    .dataframe tbody tr th {\n",
       "        vertical-align: top;\n",
       "    }\n",
       "\n",
       "    .dataframe thead th {\n",
       "        text-align: right;\n",
       "    }\n",
       "</style>\n",
       "<table border=\"1\" class=\"dataframe\">\n",
       "  <thead>\n",
       "    <tr style=\"text-align: right;\">\n",
       "      <th></th>\n",
       "      <th>Date</th>\n",
       "      <th>series-0- price</th>\n",
       "      <th>high</th>\n",
       "      <th>low</th>\n",
       "      <th>open</th>\n",
       "      <th>close</th>\n",
       "    </tr>\n",
       "  </thead>\n",
       "  <tbody>\n",
       "    <tr>\n",
       "      <th>0</th>\n",
       "      <td>False</td>\n",
       "      <td>False</td>\n",
       "      <td>False</td>\n",
       "      <td>False</td>\n",
       "      <td>False</td>\n",
       "      <td>False</td>\n",
       "    </tr>\n",
       "    <tr>\n",
       "      <th>1</th>\n",
       "      <td>False</td>\n",
       "      <td>False</td>\n",
       "      <td>False</td>\n",
       "      <td>False</td>\n",
       "      <td>False</td>\n",
       "      <td>False</td>\n",
       "    </tr>\n",
       "    <tr>\n",
       "      <th>2</th>\n",
       "      <td>False</td>\n",
       "      <td>False</td>\n",
       "      <td>False</td>\n",
       "      <td>False</td>\n",
       "      <td>False</td>\n",
       "      <td>False</td>\n",
       "    </tr>\n",
       "    <tr>\n",
       "      <th>3</th>\n",
       "      <td>False</td>\n",
       "      <td>False</td>\n",
       "      <td>False</td>\n",
       "      <td>False</td>\n",
       "      <td>False</td>\n",
       "      <td>False</td>\n",
       "    </tr>\n",
       "    <tr>\n",
       "      <th>4</th>\n",
       "      <td>False</td>\n",
       "      <td>False</td>\n",
       "      <td>False</td>\n",
       "      <td>False</td>\n",
       "      <td>False</td>\n",
       "      <td>False</td>\n",
       "    </tr>\n",
       "    <tr>\n",
       "      <th>...</th>\n",
       "      <td>...</td>\n",
       "      <td>...</td>\n",
       "      <td>...</td>\n",
       "      <td>...</td>\n",
       "      <td>...</td>\n",
       "      <td>...</td>\n",
       "    </tr>\n",
       "    <tr>\n",
       "      <th>1569</th>\n",
       "      <td>False</td>\n",
       "      <td>False</td>\n",
       "      <td>False</td>\n",
       "      <td>False</td>\n",
       "      <td>False</td>\n",
       "      <td>False</td>\n",
       "    </tr>\n",
       "    <tr>\n",
       "      <th>1570</th>\n",
       "      <td>False</td>\n",
       "      <td>False</td>\n",
       "      <td>False</td>\n",
       "      <td>False</td>\n",
       "      <td>False</td>\n",
       "      <td>False</td>\n",
       "    </tr>\n",
       "    <tr>\n",
       "      <th>1571</th>\n",
       "      <td>False</td>\n",
       "      <td>False</td>\n",
       "      <td>False</td>\n",
       "      <td>False</td>\n",
       "      <td>False</td>\n",
       "      <td>False</td>\n",
       "    </tr>\n",
       "    <tr>\n",
       "      <th>1572</th>\n",
       "      <td>False</td>\n",
       "      <td>False</td>\n",
       "      <td>False</td>\n",
       "      <td>False</td>\n",
       "      <td>False</td>\n",
       "      <td>False</td>\n",
       "    </tr>\n",
       "    <tr>\n",
       "      <th>1573</th>\n",
       "      <td>False</td>\n",
       "      <td>False</td>\n",
       "      <td>False</td>\n",
       "      <td>False</td>\n",
       "      <td>False</td>\n",
       "      <td>False</td>\n",
       "    </tr>\n",
       "  </tbody>\n",
       "</table>\n",
       "<p>1574 rows × 6 columns</p>\n",
       "</div>"
      ],
      "text/plain": [
       "       Date  series-0- price   high    low   open  close\n",
       "0     False            False  False  False  False  False\n",
       "1     False            False  False  False  False  False\n",
       "2     False            False  False  False  False  False\n",
       "3     False            False  False  False  False  False\n",
       "4     False            False  False  False  False  False\n",
       "...     ...              ...    ...    ...    ...    ...\n",
       "1569  False            False  False  False  False  False\n",
       "1570  False            False  False  False  False  False\n",
       "1571  False            False  False  False  False  False\n",
       "1572  False            False  False  False  False  False\n",
       "1573  False            False  False  False  False  False\n",
       "\n",
       "[1574 rows x 6 columns]"
      ]
     },
     "execution_count": 4,
     "metadata": {},
     "output_type": "execute_result"
    }
   ],
   "source": [
    "df.isnull()\n",
    "# df.dropna()"
   ]
  },
  {
   "cell_type": "code",
   "execution_count": 5,
   "id": "1471ddc2",
   "metadata": {},
   "outputs": [
    {
     "data": {
      "text/html": [
       "<div>\n",
       "<style scoped>\n",
       "    .dataframe tbody tr th:only-of-type {\n",
       "        vertical-align: middle;\n",
       "    }\n",
       "\n",
       "    .dataframe tbody tr th {\n",
       "        vertical-align: top;\n",
       "    }\n",
       "\n",
       "    .dataframe thead th {\n",
       "        text-align: right;\n",
       "    }\n",
       "</style>\n",
       "<table border=\"1\" class=\"dataframe\">\n",
       "  <thead>\n",
       "    <tr style=\"text-align: right;\">\n",
       "      <th></th>\n",
       "      <th>Date</th>\n",
       "      <th>high</th>\n",
       "      <th>low</th>\n",
       "      <th>open</th>\n",
       "      <th>close</th>\n",
       "    </tr>\n",
       "  </thead>\n",
       "  <tbody>\n",
       "    <tr>\n",
       "      <th>0</th>\n",
       "      <td>Thu Jun 18 2015</td>\n",
       "      <td>25.92</td>\n",
       "      <td>25.60</td>\n",
       "      <td>25.61</td>\n",
       "      <td>25.76</td>\n",
       "    </tr>\n",
       "    <tr>\n",
       "      <th>1</th>\n",
       "      <td>Fri Jun 19 2015</td>\n",
       "      <td>25.76</td>\n",
       "      <td>25.60</td>\n",
       "      <td>25.76</td>\n",
       "      <td>25.12</td>\n",
       "    </tr>\n",
       "    <tr>\n",
       "      <th>2</th>\n",
       "      <td>Mon Jun 22 2015</td>\n",
       "      <td>25.60</td>\n",
       "      <td>25.34</td>\n",
       "      <td>25.12</td>\n",
       "      <td>25.28</td>\n",
       "    </tr>\n",
       "    <tr>\n",
       "      <th>3</th>\n",
       "      <td>Tue Jun 23 2015</td>\n",
       "      <td>25.53</td>\n",
       "      <td>24.96</td>\n",
       "      <td>25.28</td>\n",
       "      <td>25.53</td>\n",
       "    </tr>\n",
       "    <tr>\n",
       "      <th>4</th>\n",
       "      <td>Wed Jun 24 2015</td>\n",
       "      <td>25.53</td>\n",
       "      <td>24.96</td>\n",
       "      <td>25.53</td>\n",
       "      <td>25.08</td>\n",
       "    </tr>\n",
       "    <tr>\n",
       "      <th>...</th>\n",
       "      <td>...</td>\n",
       "      <td>...</td>\n",
       "      <td>...</td>\n",
       "      <td>...</td>\n",
       "      <td>...</td>\n",
       "    </tr>\n",
       "    <tr>\n",
       "      <th>1569</th>\n",
       "      <td>Thu Nov 25 2021</td>\n",
       "      <td>148.95</td>\n",
       "      <td>146.50</td>\n",
       "      <td>147.00</td>\n",
       "      <td>147.75</td>\n",
       "    </tr>\n",
       "    <tr>\n",
       "      <th>1570</th>\n",
       "      <td>Fri Nov 26 2021</td>\n",
       "      <td>149.00</td>\n",
       "      <td>147.00</td>\n",
       "      <td>147.75</td>\n",
       "      <td>148.01</td>\n",
       "    </tr>\n",
       "    <tr>\n",
       "      <th>1571</th>\n",
       "      <td>Mon Nov 29 2021</td>\n",
       "      <td>158.90</td>\n",
       "      <td>147.10</td>\n",
       "      <td>148.01</td>\n",
       "      <td>151.00</td>\n",
       "    </tr>\n",
       "    <tr>\n",
       "      <th>1572</th>\n",
       "      <td>Tue Nov 30 2021</td>\n",
       "      <td>151.00</td>\n",
       "      <td>148.00</td>\n",
       "      <td>151.00</td>\n",
       "      <td>148.50</td>\n",
       "    </tr>\n",
       "    <tr>\n",
       "      <th>1573</th>\n",
       "      <td>Wed Dec 01 2021</td>\n",
       "      <td>150.00</td>\n",
       "      <td>147.50</td>\n",
       "      <td>148.50</td>\n",
       "      <td>149.00</td>\n",
       "    </tr>\n",
       "  </tbody>\n",
       "</table>\n",
       "<p>1574 rows × 5 columns</p>\n",
       "</div>"
      ],
      "text/plain": [
       "                 Date    high     low    open   close\n",
       "0     Thu Jun 18 2015   25.92   25.60   25.61   25.76\n",
       "1     Fri Jun 19 2015   25.76   25.60   25.76   25.12\n",
       "2     Mon Jun 22 2015   25.60   25.34   25.12   25.28\n",
       "3     Tue Jun 23 2015   25.53   24.96   25.28   25.53\n",
       "4     Wed Jun 24 2015   25.53   24.96   25.53   25.08\n",
       "...               ...     ...     ...     ...     ...\n",
       "1569  Thu Nov 25 2021  148.95  146.50  147.00  147.75\n",
       "1570  Fri Nov 26 2021  149.00  147.00  147.75  148.01\n",
       "1571  Mon Nov 29 2021  158.90  147.10  148.01  151.00\n",
       "1572  Tue Nov 30 2021  151.00  148.00  151.00  148.50\n",
       "1573  Wed Dec 01 2021  150.00  147.50  148.50  149.00\n",
       "\n",
       "[1574 rows x 5 columns]"
      ]
     },
     "execution_count": 5,
     "metadata": {},
     "output_type": "execute_result"
    }
   ],
   "source": [
    "df = df.drop('series-0- price', 1)\n",
    "df"
   ]
  },
  {
   "cell_type": "code",
   "execution_count": 6,
   "id": "de8dfd13",
   "metadata": {},
   "outputs": [
    {
     "name": "stdout",
     "output_type": "stream",
     "text": [
      "minimum in close price is  25.08\n",
      "maximum in close price is  155.0\n"
     ]
    }
   ],
   "source": [
    "minx=df['close'].min()\n",
    "maxx=df['close'].max()\n",
    "print(\"minimum in close price is \",minx)\n",
    "print(\"maximum in close price is \",maxx)"
   ]
  },
  {
   "cell_type": "code",
   "execution_count": 7,
   "id": "3a669ba6",
   "metadata": {},
   "outputs": [
    {
     "name": "stdout",
     "output_type": "stream",
     "text": [
      "Dataset is  (1574, 5)\n"
     ]
    },
    {
     "data": {
      "text/html": [
       "<div>\n",
       "<style scoped>\n",
       "    .dataframe tbody tr th:only-of-type {\n",
       "        vertical-align: middle;\n",
       "    }\n",
       "\n",
       "    .dataframe tbody tr th {\n",
       "        vertical-align: top;\n",
       "    }\n",
       "\n",
       "    .dataframe thead th {\n",
       "        text-align: right;\n",
       "    }\n",
       "</style>\n",
       "<table border=\"1\" class=\"dataframe\">\n",
       "  <thead>\n",
       "    <tr style=\"text-align: right;\">\n",
       "      <th></th>\n",
       "      <th>Date</th>\n",
       "      <th>high</th>\n",
       "      <th>low</th>\n",
       "      <th>open</th>\n",
       "      <th>close</th>\n",
       "    </tr>\n",
       "  </thead>\n",
       "  <tbody>\n",
       "    <tr>\n",
       "      <th>0</th>\n",
       "      <td>Thu Jun 18 2015</td>\n",
       "      <td>25.92</td>\n",
       "      <td>25.60</td>\n",
       "      <td>25.61</td>\n",
       "      <td>25.76</td>\n",
       "    </tr>\n",
       "    <tr>\n",
       "      <th>1</th>\n",
       "      <td>Fri Jun 19 2015</td>\n",
       "      <td>25.76</td>\n",
       "      <td>25.60</td>\n",
       "      <td>25.76</td>\n",
       "      <td>25.12</td>\n",
       "    </tr>\n",
       "    <tr>\n",
       "      <th>2</th>\n",
       "      <td>Mon Jun 22 2015</td>\n",
       "      <td>25.60</td>\n",
       "      <td>25.34</td>\n",
       "      <td>25.12</td>\n",
       "      <td>25.28</td>\n",
       "    </tr>\n",
       "    <tr>\n",
       "      <th>3</th>\n",
       "      <td>Tue Jun 23 2015</td>\n",
       "      <td>25.53</td>\n",
       "      <td>24.96</td>\n",
       "      <td>25.28</td>\n",
       "      <td>25.53</td>\n",
       "    </tr>\n",
       "    <tr>\n",
       "      <th>4</th>\n",
       "      <td>Wed Jun 24 2015</td>\n",
       "      <td>25.53</td>\n",
       "      <td>24.96</td>\n",
       "      <td>25.53</td>\n",
       "      <td>25.08</td>\n",
       "    </tr>\n",
       "  </tbody>\n",
       "</table>\n",
       "</div>"
      ],
      "text/plain": [
       "              Date   high    low   open  close\n",
       "0  Thu Jun 18 2015  25.92  25.60  25.61  25.76\n",
       "1  Fri Jun 19 2015  25.76  25.60  25.76  25.12\n",
       "2  Mon Jun 22 2015  25.60  25.34  25.12  25.28\n",
       "3  Tue Jun 23 2015  25.53  24.96  25.28  25.53\n",
       "4  Wed Jun 24 2015  25.53  24.96  25.53  25.08"
      ]
     },
     "execution_count": 7,
     "metadata": {},
     "output_type": "execute_result"
    }
   ],
   "source": [
    "print(\"Dataset is \",df.shape)\n",
    "df.head()"
   ]
  },
  {
   "cell_type": "code",
   "execution_count": 8,
   "id": "eb16c7a7",
   "metadata": {},
   "outputs": [
    {
     "data": {
      "image/png": "[encoded data removed]",
      "text/plain": [
       "<Figure size 864x360 with 1 Axes>"
      ]
     },
     "metadata": {
      "needs_background": "light"
     },
     "output_type": "display_data"
    }
   ],
   "source": [
    "df['close'].plot(figsize=(12,5))\n",
    "plt.xlabel(\" Days\")\n",
    "plt.ylabel(\"Price\")\n",
    "plt.show()"
   ]
  },
  {
   "cell_type": "code",
   "execution_count": 9,
   "id": "49c1a197",
   "metadata": {},
   "outputs": [
    {
     "data": {
      "text/plain": [
       "Date      object\n",
       "high     float64\n",
       "low      float64\n",
       "open     float64\n",
       "close    float64\n",
       "dtype: object"
      ]
     },
     "execution_count": 9,
     "metadata": {},
     "output_type": "execute_result"
    }
   ],
   "source": [
    "# df['close'] = df['close'] - df['close'].shift(1)\n",
    "# df['close'] = df['close'].diff()\n",
    "# df = df.dropna()\n",
    "# print(df)                                                differencing\n",
    "df.dtypes\n"
   ]
  },
  {
   "cell_type": "code",
   "execution_count": 10,
   "id": "e86cf0f5",
   "metadata": {},
   "outputs": [],
   "source": [
    "def ad_test(df):\n",
    "    dftest=adfuller(df,autolag='AIC')\n",
    "    print(\"ADF :\",dftest[0])\n",
    "    print(\"P-VALUE :\",dftest[1])\n",
    "    print(\"no of lags :\",dftest[2])\n",
    "    \n",
    "    print(\" no of obs used for adf regression and critical value calculation\",dftest[3])\n",
    "    print(\"critical value\")\n",
    "    for key,val in dftest[4].items():\n",
    "        print(\"\\t\",key ,\":\",val)"
   ]
  },
  {
   "cell_type": "code",
   "execution_count": null,
   "id": "1ee26359",
   "metadata": {},
   "outputs": [],
   "source": []
  },
  {
   "cell_type": "code",
   "execution_count": 11,
   "id": "01fc6910",
   "metadata": {},
   "outputs": [
    {
     "name": "stdout",
     "output_type": "stream",
     "text": [
      "ADF : 1.658324196159502\n",
      "P-VALUE : 0.9980224198876636\n",
      "no of lags : 3\n",
      " no of obs used for adf regression and critical value calculation 1570\n",
      "critical value\n",
      "\t 1% : -3.4345219897741357\n",
      "\t 5% : -2.8633826834772953\n",
      "\t 10% : -2.5677510122114486\n"
     ]
    }
   ],
   "source": [
    "ad_test(df['close'])"
   ]
  },
  {
   "cell_type": "code",
   "execution_count": 12,
   "id": "6915796c",
   "metadata": {},
   "outputs": [
    {
     "data": {
      "text/plain": [
       "<Figure size 432x288 with 0 Axes>"
      ]
     },
     "metadata": {},
     "output_type": "display_data"
    },
    {
     "data": {
      "image/png": "[encoded data removed]",
      "text/plain": [
       "<Figure size 1152x648 with 4 Axes>"
      ]
     },
     "metadata": {
      "needs_background": "light"
     },
     "output_type": "display_data"
    }
   ],
   "source": [
    "from statsmodels.tsa.seasonal import seasonal_decompose\n",
    "result = seasonal_decompose(df.close, model='multiplicative', freq = 30)\n",
    "fig = plt.figure()  \n",
    "fig = result.plot()  \n",
    "fig.set_size_inches(16, 9)"
   ]
  },
  {
   "cell_type": "code",
   "execution_count": null,
   "id": "b206a72a",
   "metadata": {},
   "outputs": [],
   "source": []
  },
  {
   "cell_type": "code",
   "execution_count": 13,
   "id": "741269c6",
   "metadata": {},
   "outputs": [
    {
     "name": "stdout",
     "output_type": "stream",
     "text": [
      "Performing stepwise search to minimize aic\n",
      " ARIMA(2,1,2)(0,0,0)[0] intercept   : AIC=5820.095, Time=2.09 sec\n",
      " ARIMA(0,1,0)(0,0,0)[0] intercept   : AIC=5866.033, Time=0.10 sec\n",
      " ARIMA(1,1,0)(0,0,0)[0] intercept   : AIC=5820.832, Time=0.30 sec\n",
      " ARIMA(0,1,1)(0,0,0)[0] intercept   : AIC=5819.145, Time=0.30 sec\n",
      " ARIMA(0,1,0)(0,0,0)[0]             : AIC=5867.998, Time=0.08 sec\n",
      " ARIMA(1,1,1)(0,0,0)[0] intercept   : AIC=5821.045, Time=0.69 sec\n",
      " ARIMA(0,1,2)(0,0,0)[0] intercept   : AIC=5821.073, Time=0.41 sec\n",
      " ARIMA(1,1,2)(0,0,0)[0] intercept   : AIC=5822.882, Time=2.14 sec\n",
      " ARIMA(0,1,1)(0,0,0)[0]             : AIC=5823.182, Time=0.15 sec\n",
      "\n",
      "Best model:  ARIMA(0,1,1)(0,0,0)[0] intercept\n",
      "Total fit time: 6.277 seconds\n"
     ]
    },
    {
     "data": {
      "text/html": [
       "<table class=\"simpletable\">\n",
       "<caption>SARIMAX Results</caption>\n",
       "<tr>\n",
       "  <th>Dep. Variable:</th>           <td>y</td>        <th>  No. Observations:  </th>   <td>1574</td>   \n",
       "</tr>\n",
       "<tr>\n",
       "  <th>Model:</th>           <td>SARIMAX(0, 1, 1)</td> <th>  Log Likelihood     </th> <td>-2906.572</td>\n",
       "</tr>\n",
       "<tr>\n",
       "  <th>Date:</th>            <td>Wed, 23 Feb 2022</td> <th>  AIC                </th> <td>5819.145</td> \n",
       "</tr>\n",
       "<tr>\n",
       "  <th>Time:</th>                <td>14:42:15</td>     <th>  BIC                </th> <td>5835.227</td> \n",
       "</tr>\n",
       "<tr>\n",
       "  <th>Sample:</th>                  <td>0</td>        <th>  HQIC               </th> <td>5825.122</td> \n",
       "</tr>\n",
       "<tr>\n",
       "  <th></th>                      <td> - 1574</td>     <th>                     </th>     <td> </td>    \n",
       "</tr>\n",
       "<tr>\n",
       "  <th>Covariance Type:</th>        <td>opg</td>       <th>                     </th>     <td> </td>    \n",
       "</tr>\n",
       "</table>\n",
       "<table class=\"simpletable\">\n",
       "<tr>\n",
       "      <td></td>         <th>coef</th>     <th>std err</th>      <th>z</th>      <th>P>|z|</th>  <th>[0.025</th>    <th>0.975]</th>  \n",
       "</tr>\n",
       "<tr>\n",
       "  <th>intercept</th> <td>    0.0784</td> <td>    0.033</td> <td>    2.412</td> <td> 0.016</td> <td>    0.015</td> <td>    0.142</td>\n",
       "</tr>\n",
       "<tr>\n",
       "  <th>ma.L1</th>     <td>   -0.1789</td> <td>    0.015</td> <td>  -11.903</td> <td> 0.000</td> <td>   -0.208</td> <td>   -0.149</td>\n",
       "</tr>\n",
       "<tr>\n",
       "  <th>sigma2</th>    <td>    2.3577</td> <td>    0.042</td> <td>   56.087</td> <td> 0.000</td> <td>    2.275</td> <td>    2.440</td>\n",
       "</tr>\n",
       "</table>\n",
       "<table class=\"simpletable\">\n",
       "<tr>\n",
       "  <th>Ljung-Box (L1) (Q):</th>     <td>0.00</td> <th>  Jarque-Bera (JB):  </th> <td>3088.48</td>\n",
       "</tr>\n",
       "<tr>\n",
       "  <th>Prob(Q):</th>                <td>0.96</td> <th>  Prob(JB):          </th>  <td>0.00</td>  \n",
       "</tr>\n",
       "<tr>\n",
       "  <th>Heteroskedasticity (H):</th> <td>4.96</td> <th>  Skew:              </th>  <td>0.60</td>  \n",
       "</tr>\n",
       "<tr>\n",
       "  <th>Prob(H) (two-sided):</th>    <td>0.00</td> <th>  Kurtosis:          </th>  <td>9.76</td>  \n",
       "</tr>\n",
       "</table><br/><br/>Warnings:<br/>[1] Covariance matrix calculated using the outer product of gradients (complex-step)."
      ],
      "text/plain": [
       "<class 'statsmodels.iolib.summary.Summary'>\n",
       "\"\"\"\n",
       "                               SARIMAX Results                                \n",
       "==============================================================================\n",
       "Dep. Variable:                      y   No. Observations:                 1574\n",
       "Model:               SARIMAX(0, 1, 1)   Log Likelihood               -2906.572\n",
       "Date:                Wed, 23 Feb 2022   AIC                           5819.145\n",
       "Time:                        14:42:15   BIC                           5835.227\n",
       "Sample:                             0   HQIC                          5825.122\n",
       "                               - 1574                                         \n",
       "Covariance Type:                  opg                                         \n",
       "==============================================================================\n",
       "                 coef    std err          z      P>|z|      [0.025      0.975]\n",
       "------------------------------------------------------------------------------\n",
       "intercept      0.0784      0.033      2.412      0.016       0.015       0.142\n",
       "ma.L1         -0.1789      0.015    -11.903      0.000      -0.208      -0.149\n",
       "sigma2         2.3577      0.042     56.087      0.000       2.275       2.440\n",
       "===================================================================================\n",
       "Ljung-Box (L1) (Q):                   0.00   Jarque-Bera (JB):              3088.48\n",
       "Prob(Q):                              0.96   Prob(JB):                         0.00\n",
       "Heteroskedasticity (H):               4.96   Skew:                             0.60\n",
       "Prob(H) (two-sided):                  0.00   Kurtosis:                         9.76\n",
       "===================================================================================\n",
       "\n",
       "Warnings:\n",
       "[1] Covariance matrix calculated using the outer product of gradients (complex-step).\n",
       "\"\"\""
      ]
     },
     "execution_count": 13,
     "metadata": {},
     "output_type": "execute_result"
    }
   ],
   "source": [
    "stepwise_fit=auto_arima(df.close,trace=True,supress_warnings=True)\n",
    "stepwise_fit.summary()"
   ]
  },
  {
   "cell_type": "code",
   "execution_count": 14,
   "id": "6a2b4220",
   "metadata": {},
   "outputs": [
    {
     "name": "stdout",
     "output_type": "stream",
     "text": [
      "(1574, 5)\n",
      "(1544, 5) (30, 5)\n"
     ]
    }
   ],
   "source": [
    "print(df.shape)\n",
    "train=df.iloc[:-30]\n",
    "test=df.iloc[-30:]\n",
    "print(train.shape,test.shape)"
   ]
  },
  {
   "cell_type": "code",
   "execution_count": 15,
   "id": "220c98c5",
   "metadata": {},
   "outputs": [
    {
     "data": {
      "text/html": [
       "<table class=\"simpletable\">\n",
       "<caption>ARIMA Model Results</caption>\n",
       "<tr>\n",
       "  <th>Dep. Variable:</th>      <td>D.close</td>     <th>  No. Observations:  </th>   <td>1543</td>   \n",
       "</tr>\n",
       "<tr>\n",
       "  <th>Model:</th>          <td>ARIMA(0, 1, 2)</td>  <th>  Log Likelihood     </th> <td>-2816.571</td>\n",
       "</tr>\n",
       "<tr>\n",
       "  <th>Method:</th>             <td>css-mle</td>     <th>  S.D. of innovations</th>   <td>1.501</td>  \n",
       "</tr>\n",
       "<tr>\n",
       "  <th>Date:</th>          <td>Wed, 23 Feb 2022</td> <th>  AIC                </th> <td>5641.142</td> \n",
       "</tr>\n",
       "<tr>\n",
       "  <th>Time:</th>              <td>14:42:15</td>     <th>  BIC                </th> <td>5662.508</td> \n",
       "</tr>\n",
       "<tr>\n",
       "  <th>Sample:</th>                <td>1</td>        <th>  HQIC               </th> <td>5649.091</td> \n",
       "</tr>\n",
       "<tr>\n",
       "  <th></th>                       <td> </td>        <th>                     </th>     <td> </td>    \n",
       "</tr>\n",
       "</table>\n",
       "<table class=\"simpletable\">\n",
       "<tr>\n",
       "        <td></td>           <th>coef</th>     <th>std err</th>      <th>z</th>      <th>P>|z|</th>  <th>[0.025</th>    <th>0.975]</th>  \n",
       "</tr>\n",
       "<tr>\n",
       "  <th>const</th>         <td>    0.0732</td> <td>    0.031</td> <td>    2.336</td> <td> 0.019</td> <td>    0.012</td> <td>    0.135</td>\n",
       "</tr>\n",
       "<tr>\n",
       "  <th>ma.L1.D.close</th> <td>   -0.1919</td> <td>    0.025</td> <td>   -7.556</td> <td> 0.000</td> <td>   -0.242</td> <td>   -0.142</td>\n",
       "</tr>\n",
       "<tr>\n",
       "  <th>ma.L2.D.close</th> <td>    0.0115</td> <td>    0.025</td> <td>    0.468</td> <td> 0.640</td> <td>   -0.037</td> <td>    0.060</td>\n",
       "</tr>\n",
       "</table>\n",
       "<table class=\"simpletable\">\n",
       "<caption>Roots</caption>\n",
       "<tr>\n",
       "    <td></td>   <th>            Real</th>  <th>         Imaginary</th> <th>         Modulus</th>  <th>        Frequency</th>\n",
       "</tr>\n",
       "<tr>\n",
       "  <th>MA.1</th> <td>           8.3432</td> <td>          -4.1644j</td> <td>           9.3247</td> <td>          -0.0737</td>\n",
       "</tr>\n",
       "<tr>\n",
       "  <th>MA.2</th> <td>           8.3432</td> <td>          +4.1644j</td> <td>           9.3247</td> <td>           0.0737</td>\n",
       "</tr>\n",
       "</table>"
      ],
      "text/plain": [
       "<class 'statsmodels.iolib.summary.Summary'>\n",
       "\"\"\"\n",
       "                             ARIMA Model Results                              \n",
       "==============================================================================\n",
       "Dep. Variable:                D.close   No. Observations:                 1543\n",
       "Model:                 ARIMA(0, 1, 2)   Log Likelihood               -2816.571\n",
       "Method:                       css-mle   S.D. of innovations              1.501\n",
       "Date:                Wed, 23 Feb 2022   AIC                           5641.142\n",
       "Time:                        14:42:15   BIC                           5662.508\n",
       "Sample:                             1   HQIC                          5649.091\n",
       "                                                                              \n",
       "=================================================================================\n",
       "                    coef    std err          z      P>|z|      [0.025      0.975]\n",
       "---------------------------------------------------------------------------------\n",
       "const             0.0732      0.031      2.336      0.019       0.012       0.135\n",
       "ma.L1.D.close    -0.1919      0.025     -7.556      0.000      -0.242      -0.142\n",
       "ma.L2.D.close     0.0115      0.025      0.468      0.640      -0.037       0.060\n",
       "                                    Roots                                    \n",
       "=============================================================================\n",
       "                  Real          Imaginary           Modulus         Frequency\n",
       "-----------------------------------------------------------------------------\n",
       "MA.1            8.3432           -4.1644j            9.3247           -0.0737\n",
       "MA.2            8.3432           +4.1644j            9.3247            0.0737\n",
       "-----------------------------------------------------------------------------\n",
       "\"\"\""
      ]
     },
     "execution_count": 15,
     "metadata": {},
     "output_type": "execute_result"
    }
   ],
   "source": [
    "model=ARIMA(train['close'],order=(0,1,2))\n",
    "model=model.fit()\n",
    "model.summary()"
   ]
  },
  {
   "cell_type": "code",
   "execution_count": 16,
   "id": "57025ac6",
   "metadata": {},
   "outputs": [
    {
     "data": {
      "text/html": [
       "<div>\n",
       "<style scoped>\n",
       "    .dataframe tbody tr th:only-of-type {\n",
       "        vertical-align: middle;\n",
       "    }\n",
       "\n",
       "    .dataframe tbody tr th {\n",
       "        vertical-align: top;\n",
       "    }\n",
       "\n",
       "    .dataframe thead th {\n",
       "        text-align: right;\n",
       "    }\n",
       "</style>\n",
       "<table border=\"1\" class=\"dataframe\">\n",
       "  <thead>\n",
       "    <tr style=\"text-align: right;\">\n",
       "      <th></th>\n",
       "      <th>Date</th>\n",
       "      <th>high</th>\n",
       "      <th>low</th>\n",
       "      <th>open</th>\n",
       "      <th>close</th>\n",
       "    </tr>\n",
       "  </thead>\n",
       "  <tbody>\n",
       "    <tr>\n",
       "      <th>0</th>\n",
       "      <td>2015-06-18</td>\n",
       "      <td>25.92</td>\n",
       "      <td>25.60</td>\n",
       "      <td>25.61</td>\n",
       "      <td>25.76</td>\n",
       "    </tr>\n",
       "    <tr>\n",
       "      <th>1</th>\n",
       "      <td>2015-06-19</td>\n",
       "      <td>25.76</td>\n",
       "      <td>25.60</td>\n",
       "      <td>25.76</td>\n",
       "      <td>25.12</td>\n",
       "    </tr>\n",
       "    <tr>\n",
       "      <th>2</th>\n",
       "      <td>2015-06-22</td>\n",
       "      <td>25.60</td>\n",
       "      <td>25.34</td>\n",
       "      <td>25.12</td>\n",
       "      <td>25.28</td>\n",
       "    </tr>\n",
       "    <tr>\n",
       "      <th>3</th>\n",
       "      <td>2015-06-23</td>\n",
       "      <td>25.53</td>\n",
       "      <td>24.96</td>\n",
       "      <td>25.28</td>\n",
       "      <td>25.53</td>\n",
       "    </tr>\n",
       "    <tr>\n",
       "      <th>4</th>\n",
       "      <td>2015-06-24</td>\n",
       "      <td>25.53</td>\n",
       "      <td>24.96</td>\n",
       "      <td>25.53</td>\n",
       "      <td>25.08</td>\n",
       "    </tr>\n",
       "    <tr>\n",
       "      <th>...</th>\n",
       "      <td>...</td>\n",
       "      <td>...</td>\n",
       "      <td>...</td>\n",
       "      <td>...</td>\n",
       "      <td>...</td>\n",
       "    </tr>\n",
       "    <tr>\n",
       "      <th>1569</th>\n",
       "      <td>2021-11-25</td>\n",
       "      <td>148.95</td>\n",
       "      <td>146.50</td>\n",
       "      <td>147.00</td>\n",
       "      <td>147.75</td>\n",
       "    </tr>\n",
       "    <tr>\n",
       "      <th>1570</th>\n",
       "      <td>2021-11-26</td>\n",
       "      <td>149.00</td>\n",
       "      <td>147.00</td>\n",
       "      <td>147.75</td>\n",
       "      <td>148.01</td>\n",
       "    </tr>\n",
       "    <tr>\n",
       "      <th>1571</th>\n",
       "      <td>2021-11-29</td>\n",
       "      <td>158.90</td>\n",
       "      <td>147.10</td>\n",
       "      <td>148.01</td>\n",
       "      <td>151.00</td>\n",
       "    </tr>\n",
       "    <tr>\n",
       "      <th>1572</th>\n",
       "      <td>2021-11-30</td>\n",
       "      <td>151.00</td>\n",
       "      <td>148.00</td>\n",
       "      <td>151.00</td>\n",
       "      <td>148.50</td>\n",
       "    </tr>\n",
       "    <tr>\n",
       "      <th>1573</th>\n",
       "      <td>2021-12-01</td>\n",
       "      <td>150.00</td>\n",
       "      <td>147.50</td>\n",
       "      <td>148.50</td>\n",
       "      <td>149.00</td>\n",
       "    </tr>\n",
       "  </tbody>\n",
       "</table>\n",
       "<p>1574 rows × 5 columns</p>\n",
       "</div>"
      ],
      "text/plain": [
       "           Date    high     low    open   close\n",
       "0    2015-06-18   25.92   25.60   25.61   25.76\n",
       "1    2015-06-19   25.76   25.60   25.76   25.12\n",
       "2    2015-06-22   25.60   25.34   25.12   25.28\n",
       "3    2015-06-23   25.53   24.96   25.28   25.53\n",
       "4    2015-06-24   25.53   24.96   25.53   25.08\n",
       "...         ...     ...     ...     ...     ...\n",
       "1569 2021-11-25  148.95  146.50  147.00  147.75\n",
       "1570 2021-11-26  149.00  147.00  147.75  148.01\n",
       "1571 2021-11-29  158.90  147.10  148.01  151.00\n",
       "1572 2021-11-30  151.00  148.00  151.00  148.50\n",
       "1573 2021-12-01  150.00  147.50  148.50  149.00\n",
       "\n",
       "[1574 rows x 5 columns]"
      ]
     },
     "execution_count": 16,
     "metadata": {},
     "output_type": "execute_result"
    }
   ],
   "source": [
    "df.Date=pd.to_datetime(df.Date)\n",
    "df"
   ]
  },
  {
   "cell_type": "code",
   "execution_count": 17,
   "id": "0c00ccfe",
   "metadata": {},
   "outputs": [],
   "source": [
    "\n",
    "start=len(train)\n",
    "end=len(train)+len(test)-1\n",
    "\n"
   ]
  },
  {
   "cell_type": "code",
   "execution_count": 18,
   "id": "d9d2dec0",
   "metadata": {},
   "outputs": [
    {
     "data": {
      "text/plain": [
       "1544"
      ]
     },
     "execution_count": 18,
     "metadata": {},
     "output_type": "execute_result"
    }
   ],
   "source": [
    "start"
   ]
  },
  {
   "cell_type": "code",
   "execution_count": 19,
   "id": "e73c72c6",
   "metadata": {},
   "outputs": [
    {
     "name": "stdout",
     "output_type": "stream",
     "text": [
      "1544    138.664574\n",
      "1545    138.732762\n",
      "1546    138.805965\n",
      "1547    138.879168\n",
      "1548    138.952372\n",
      "1549    139.025575\n",
      "1550    139.098778\n",
      "1551    139.171981\n",
      "1552    139.245185\n",
      "1553    139.318388\n",
      "1554    139.391591\n",
      "1555    139.464795\n",
      "1556    139.537998\n",
      "1557    139.611201\n",
      "1558    139.684404\n",
      "1559    139.757608\n",
      "1560    139.830811\n",
      "1561    139.904014\n",
      "1562    139.977218\n",
      "1563    140.050421\n",
      "1564    140.123624\n",
      "1565    140.196827\n",
      "1566    140.270031\n",
      "1567    140.343234\n",
      "1568    140.416437\n",
      "1569    140.489641\n",
      "1570    140.562844\n",
      "1571    140.636047\n",
      "1572    140.709251\n",
      "1573    140.782454\n",
      "dtype: float64\n"
     ]
    }
   ],
   "source": [
    "pred=model.predict(start=start,end=end,typ='levels')\n",
    "# pred.index=df.index[start:end+1]\n",
    "print(pred,)"
   ]
  },
  {
   "cell_type": "code",
   "execution_count": 20,
   "id": "b48c59f1",
   "metadata": {},
   "outputs": [
    {
     "data": {
      "image/png": "[encoded data removed]",
      "text/plain": [
       "<Figure size 432x288 with 1 Axes>"
      ]
     },
     "metadata": {
      "needs_background": "light"
     },
     "output_type": "display_data"
    }
   ],
   "source": [
    "pred.plot(legend=True,label=\"prediction\")\n",
    "test.close.plot(legend=True,label=\"actual data\")\n",
    "plt.xlabel(\" Days\")\n",
    "plt.ylabel(\"Price\")\n",
    "plt.show()"
   ]
  },
  {
   "cell_type": "code",
   "execution_count": 21,
   "id": "6a71df50",
   "metadata": {},
   "outputs": [
    {
     "data": {
      "text/plain": [
       "(30, 5)"
      ]
     },
     "execution_count": 21,
     "metadata": {},
     "output_type": "execute_result"
    }
   ],
   "source": [
    "test.shape"
   ]
  },
  {
   "cell_type": "code",
   "execution_count": 22,
   "id": "60e59436",
   "metadata": {},
   "outputs": [
    {
     "name": "stdout",
     "output_type": "stream",
     "text": [
      "Root mean square error is : 5.868462274475539\n"
     ]
    }
   ],
   "source": [
    "from sklearn.metrics import mean_squared_error\n",
    "from math import sqrt\n",
    "rmse=sqrt(mean_squared_error(pred,test.close))\n",
    "print(\"Root mean square error is :\",rmse)"
   ]
  },
  {
   "cell_type": "code",
   "execution_count": 23,
   "id": "cbe9ca3d",
   "metadata": {},
   "outputs": [
    {
     "data": {
      "text/html": [
       "<div>\n",
       "<style scoped>\n",
       "    .dataframe tbody tr th:only-of-type {\n",
       "        vertical-align: middle;\n",
       "    }\n",
       "\n",
       "    .dataframe tbody tr th {\n",
       "        vertical-align: top;\n",
       "    }\n",
       "\n",
       "    .dataframe thead th {\n",
       "        text-align: right;\n",
       "    }\n",
       "</style>\n",
       "<table border=\"1\" class=\"dataframe\">\n",
       "  <thead>\n",
       "    <tr style=\"text-align: right;\">\n",
       "      <th></th>\n",
       "      <th>Date</th>\n",
       "      <th>high</th>\n",
       "      <th>low</th>\n",
       "      <th>open</th>\n",
       "      <th>close</th>\n",
       "    </tr>\n",
       "  </thead>\n",
       "  <tbody>\n",
       "    <tr>\n",
       "      <th>1569</th>\n",
       "      <td>2021-11-25</td>\n",
       "      <td>148.95</td>\n",
       "      <td>146.5</td>\n",
       "      <td>147.00</td>\n",
       "      <td>147.75</td>\n",
       "    </tr>\n",
       "    <tr>\n",
       "      <th>1570</th>\n",
       "      <td>2021-11-26</td>\n",
       "      <td>149.00</td>\n",
       "      <td>147.0</td>\n",
       "      <td>147.75</td>\n",
       "      <td>148.01</td>\n",
       "    </tr>\n",
       "    <tr>\n",
       "      <th>1571</th>\n",
       "      <td>2021-11-29</td>\n",
       "      <td>158.90</td>\n",
       "      <td>147.1</td>\n",
       "      <td>148.01</td>\n",
       "      <td>151.00</td>\n",
       "    </tr>\n",
       "    <tr>\n",
       "      <th>1572</th>\n",
       "      <td>2021-11-30</td>\n",
       "      <td>151.00</td>\n",
       "      <td>148.0</td>\n",
       "      <td>151.00</td>\n",
       "      <td>148.50</td>\n",
       "    </tr>\n",
       "    <tr>\n",
       "      <th>1573</th>\n",
       "      <td>2021-12-01</td>\n",
       "      <td>150.00</td>\n",
       "      <td>147.5</td>\n",
       "      <td>148.50</td>\n",
       "      <td>149.00</td>\n",
       "    </tr>\n",
       "  </tbody>\n",
       "</table>\n",
       "</div>"
      ],
      "text/plain": [
       "           Date    high    low    open   close\n",
       "1569 2021-11-25  148.95  146.5  147.00  147.75\n",
       "1570 2021-11-26  149.00  147.0  147.75  148.01\n",
       "1571 2021-11-29  158.90  147.1  148.01  151.00\n",
       "1572 2021-11-30  151.00  148.0  151.00  148.50\n",
       "1573 2021-12-01  150.00  147.5  148.50  149.00"
      ]
     },
     "execution_count": 23,
     "metadata": {},
     "output_type": "execute_result"
    }
   ],
   "source": [
    "model2=ARIMA(df.close,order=(0,1,1))\n",
    "model2=model2.fit()\n",
    "df.tail()"
   ]
  },
  {
   "cell_type": "code",
   "execution_count": 24,
   "id": "62a4895d",
   "metadata": {},
   "outputs": [
    {
     "name": "stdout",
     "output_type": "stream",
     "text": [
      "1574    149.068641\n",
      "1575    149.147062\n",
      "1576    149.225482\n",
      "1577    149.303903\n",
      "1578    149.382323\n",
      "1579    149.460744\n",
      "1580    149.539164\n",
      "1581    149.617585\n",
      "1582    149.696006\n",
      "1583    149.774426\n",
      "1584    149.852847\n",
      "1585    149.931267\n",
      "1586    150.009688\n",
      "1587    150.088108\n",
      "1588    150.166529\n",
      "1589    150.244950\n",
      "1590    150.323370\n",
      "1591    150.401791\n",
      "1592    150.480211\n",
      "1593    150.558632\n",
      "1594    150.637053\n",
      "1595    150.715473\n",
      "1596    150.793894\n",
      "1597    150.872314\n",
      "1598    150.950735\n",
      "1599    151.029155\n",
      "1600    151.107576\n",
      "1601    151.185997\n",
      "1602    151.264417\n",
      "1603    151.342838\n",
      "1604    151.421258\n",
      "Name: Arima prediction, dtype: float64\n"
     ]
    }
   ],
   "source": [
    "index_future_dates=pd.date_range(start='2021-12-01',end='2021-12-30')\n",
    "pred=model2.predict(start=len(df),end=len(df)+30,typ='levels').rename(\"Arima prediction\")\n",
    "print(pred)"
   ]
  },
  {
   "cell_type": "code",
   "execution_count": 27,
   "id": "33241836",
   "metadata": {},
   "outputs": [
    {
     "data": {
      "image/png": "[encoded data removed]",
      "text/plain": [
       "<Figure size 864x360 with 1 Axes>"
      ]
     },
     "metadata": {
      "needs_background": "light"
     },
     "output_type": "display_data"
    }
   ],
   "source": [
    "pred.plot(figsize=(12,5),legend=True)\n",
    "df.close.plot(figsize=(12,5),legend=True)\n",
    "plt.title(\"Prediction for next 30 Days\")\n",
    "plt.xlabel(\"no of  Days\")\n",
    "plt.ylabel(\"Price\")\n",
    "plt.show()"
   ]
  },
  {
   "cell_type": "code",
   "execution_count": 26,
   "id": "a62299b1",
   "metadata": {},
   "outputs": [
    {
     "data": {
      "text/plain": [
       "[<matplotlib.lines.Line2D at 0x217016b71f0>]"
      ]
     },
     "execution_count": 26,
     "metadata": {},
     "output_type": "execute_result"
    },
    {
     "data": {
      "image/png": "[encoded data removed]",
      "text/plain": [
       "<Figure size 432x288 with 1 Axes>"
      ]
     },
     "metadata": {
      "needs_background": "light"
     },
     "output_type": "display_data"
    }
   ],
   "source": []
  },
  {
   "cell_type": "code",
   "execution_count": null,
   "id": "b2623525",
   "metadata": {},
   "outputs": [],
   "source": []
  },
  {
   "cell_type": "code",
   "execution_count": null,
   "id": "0f0b0370",
   "metadata": {},
   "outputs": [],
   "source": []
  },
  {
   "cell_type": "code",
   "execution_count": null,
   "id": "689a3580",
   "metadata": {},
   "outputs": [],
   "source": []
  }
 ],
 "metadata": {
  "kernelspec": {
   "display_name": "Python 3 (ipykernel)",
   "language": "python",
   "name": "python3"
  },
  "language_info": {
   "codemirror_mode": {
    "name": "ipython",
    "version": 3
   },
   "file_extension": ".py",
   "mimetype": "text/x-python",
   "name": "python",
   "nbconvert_exporter": "python",
   "pygments_lexer": "ipython3",
   "version": "3.9.7"
  }
 },
 "nbformat": 4,
 "nbformat_minor": 5
}
