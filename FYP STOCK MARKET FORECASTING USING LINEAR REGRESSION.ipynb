{
 "cells": [
  {
   "cell_type": "code",
   "execution_count": 1,
   "id": "34977f2a",
   "metadata": {},
   "outputs": [],
   "source": [
    "import pandas as pd\n",
    "import numpy as np\n",
    "import matplotlib.pyplot as plt\n",
    "from sklearn import metrics\n"
   ]
  },
  {
   "cell_type": "code",
   "execution_count": 2,
   "id": "c05ec035",
   "metadata": {},
   "outputs": [],
   "source": [
    "df=pd.read_csv('meezan.csv')"
   ]
  },
  {
   "cell_type": "code",
   "execution_count": 3,
   "id": "99f9a02a",
   "metadata": {},
   "outputs": [
    {
     "data": {
      "text/html": [
       "<div>\n",
       "<style scoped>\n",
       "    .dataframe tbody tr th:only-of-type {\n",
       "        vertical-align: middle;\n",
       "    }\n",
       "\n",
       "    .dataframe tbody tr th {\n",
       "        vertical-align: top;\n",
       "    }\n",
       "\n",
       "    .dataframe thead th {\n",
       "        text-align: right;\n",
       "    }\n",
       "</style>\n",
       "<table border=\"1\" class=\"dataframe\">\n",
       "  <thead>\n",
       "    <tr style=\"text-align: right;\">\n",
       "      <th></th>\n",
       "      <th>category</th>\n",
       "      <th>series-0- price</th>\n",
       "      <th>high</th>\n",
       "      <th>low</th>\n",
       "      <th>open</th>\n",
       "      <th>close</th>\n",
       "    </tr>\n",
       "  </thead>\n",
       "  <tbody>\n",
       "    <tr>\n",
       "      <th>0</th>\n",
       "      <td>Thu Dec 06 2007</td>\n",
       "      <td>11.56</td>\n",
       "      <td>11.56</td>\n",
       "      <td>11.42</td>\n",
       "      <td>11.53</td>\n",
       "      <td>11.56</td>\n",
       "    </tr>\n",
       "    <tr>\n",
       "      <th>1</th>\n",
       "      <td>Fri Dec 07 2007</td>\n",
       "      <td>12.13</td>\n",
       "      <td>12.13</td>\n",
       "      <td>11.50</td>\n",
       "      <td>11.56</td>\n",
       "      <td>12.28</td>\n",
       "    </tr>\n",
       "    <tr>\n",
       "      <th>2</th>\n",
       "      <td>Mon Dec 10 2007</td>\n",
       "      <td>12.27</td>\n",
       "      <td>12.44</td>\n",
       "      <td>12.00</td>\n",
       "      <td>12.28</td>\n",
       "      <td>12.27</td>\n",
       "    </tr>\n",
       "    <tr>\n",
       "      <th>3</th>\n",
       "      <td>Tue Dec 11 2007</td>\n",
       "      <td>12.32</td>\n",
       "      <td>12.44</td>\n",
       "      <td>12.15</td>\n",
       "      <td>12.27</td>\n",
       "      <td>12.29</td>\n",
       "    </tr>\n",
       "    <tr>\n",
       "      <th>4</th>\n",
       "      <td>Wed Dec 12 2007</td>\n",
       "      <td>12.44</td>\n",
       "      <td>12.73</td>\n",
       "      <td>12.15</td>\n",
       "      <td>12.29</td>\n",
       "      <td>12.38</td>\n",
       "    </tr>\n",
       "    <tr>\n",
       "      <th>...</th>\n",
       "      <td>...</td>\n",
       "      <td>...</td>\n",
       "      <td>...</td>\n",
       "      <td>...</td>\n",
       "      <td>...</td>\n",
       "      <td>...</td>\n",
       "    </tr>\n",
       "    <tr>\n",
       "      <th>3361</th>\n",
       "      <td>Thu Nov 25 2021</td>\n",
       "      <td>148.00</td>\n",
       "      <td>148.95</td>\n",
       "      <td>146.50</td>\n",
       "      <td>147.00</td>\n",
       "      <td>147.75</td>\n",
       "    </tr>\n",
       "    <tr>\n",
       "      <th>3362</th>\n",
       "      <td>Fri Nov 26 2021</td>\n",
       "      <td>148.55</td>\n",
       "      <td>149.00</td>\n",
       "      <td>147.00</td>\n",
       "      <td>147.75</td>\n",
       "      <td>148.01</td>\n",
       "    </tr>\n",
       "    <tr>\n",
       "      <th>3363</th>\n",
       "      <td>Mon Nov 29 2021</td>\n",
       "      <td>150.50</td>\n",
       "      <td>158.90</td>\n",
       "      <td>147.10</td>\n",
       "      <td>148.01</td>\n",
       "      <td>151.00</td>\n",
       "    </tr>\n",
       "    <tr>\n",
       "      <th>3364</th>\n",
       "      <td>Tue Nov 30 2021</td>\n",
       "      <td>149.00</td>\n",
       "      <td>151.00</td>\n",
       "      <td>148.00</td>\n",
       "      <td>151.00</td>\n",
       "      <td>148.50</td>\n",
       "    </tr>\n",
       "    <tr>\n",
       "      <th>3365</th>\n",
       "      <td>Wed Dec 01 2021</td>\n",
       "      <td>149.05</td>\n",
       "      <td>150.00</td>\n",
       "      <td>147.50</td>\n",
       "      <td>148.50</td>\n",
       "      <td>149.00</td>\n",
       "    </tr>\n",
       "  </tbody>\n",
       "</table>\n",
       "<p>3366 rows × 6 columns</p>\n",
       "</div>"
      ],
      "text/plain": [
       "             category  series-0- price    high     low    open   close\n",
       "0     Thu Dec 06 2007            11.56   11.56   11.42   11.53   11.56\n",
       "1     Fri Dec 07 2007            12.13   12.13   11.50   11.56   12.28\n",
       "2     Mon Dec 10 2007            12.27   12.44   12.00   12.28   12.27\n",
       "3     Tue Dec 11 2007            12.32   12.44   12.15   12.27   12.29\n",
       "4     Wed Dec 12 2007            12.44   12.73   12.15   12.29   12.38\n",
       "...               ...              ...     ...     ...     ...     ...\n",
       "3361  Thu Nov 25 2021           148.00  148.95  146.50  147.00  147.75\n",
       "3362  Fri Nov 26 2021           148.55  149.00  147.00  147.75  148.01\n",
       "3363  Mon Nov 29 2021           150.50  158.90  147.10  148.01  151.00\n",
       "3364  Tue Nov 30 2021           149.00  151.00  148.00  151.00  148.50\n",
       "3365  Wed Dec 01 2021           149.05  150.00  147.50  148.50  149.00\n",
       "\n",
       "[3366 rows x 6 columns]"
      ]
     },
     "execution_count": 3,
     "metadata": {},
     "output_type": "execute_result"
    }
   ],
   "source": [
    "df"
   ]
  },
  {
   "cell_type": "code",
   "execution_count": 4,
   "id": "e46043f3",
   "metadata": {},
   "outputs": [
    {
     "name": "stdout",
     "output_type": "stream",
     "text": [
      "minimum in close price is  4.22\n",
      "maximum in close price is  155.0\n"
     ]
    }
   ],
   "source": [
    "minx=df['close'].min()\n",
    "maxx=df['close'].max()\n",
    "print(\"minimum in close price is \",minx)\n",
    "print(\"maximum in close price is \",maxx)"
   ]
  },
  {
   "cell_type": "code",
   "execution_count": 5,
   "id": "8146a85d",
   "metadata": {},
   "outputs": [
    {
     "data": {
      "text/html": [
       "<div>\n",
       "<style scoped>\n",
       "    .dataframe tbody tr th:only-of-type {\n",
       "        vertical-align: middle;\n",
       "    }\n",
       "\n",
       "    .dataframe tbody tr th {\n",
       "        vertical-align: top;\n",
       "    }\n",
       "\n",
       "    .dataframe thead th {\n",
       "        text-align: right;\n",
       "    }\n",
       "</style>\n",
       "<table border=\"1\" class=\"dataframe\">\n",
       "  <thead>\n",
       "    <tr style=\"text-align: right;\">\n",
       "      <th></th>\n",
       "      <th>category</th>\n",
       "      <th>high</th>\n",
       "      <th>low</th>\n",
       "      <th>open</th>\n",
       "      <th>close</th>\n",
       "    </tr>\n",
       "  </thead>\n",
       "  <tbody>\n",
       "    <tr>\n",
       "      <th>0</th>\n",
       "      <td>Thu Dec 06 2007</td>\n",
       "      <td>11.56</td>\n",
       "      <td>11.42</td>\n",
       "      <td>11.53</td>\n",
       "      <td>11.56</td>\n",
       "    </tr>\n",
       "    <tr>\n",
       "      <th>1</th>\n",
       "      <td>Fri Dec 07 2007</td>\n",
       "      <td>12.13</td>\n",
       "      <td>11.50</td>\n",
       "      <td>11.56</td>\n",
       "      <td>12.28</td>\n",
       "    </tr>\n",
       "    <tr>\n",
       "      <th>2</th>\n",
       "      <td>Mon Dec 10 2007</td>\n",
       "      <td>12.44</td>\n",
       "      <td>12.00</td>\n",
       "      <td>12.28</td>\n",
       "      <td>12.27</td>\n",
       "    </tr>\n",
       "    <tr>\n",
       "      <th>3</th>\n",
       "      <td>Tue Dec 11 2007</td>\n",
       "      <td>12.44</td>\n",
       "      <td>12.15</td>\n",
       "      <td>12.27</td>\n",
       "      <td>12.29</td>\n",
       "    </tr>\n",
       "    <tr>\n",
       "      <th>4</th>\n",
       "      <td>Wed Dec 12 2007</td>\n",
       "      <td>12.73</td>\n",
       "      <td>12.15</td>\n",
       "      <td>12.29</td>\n",
       "      <td>12.38</td>\n",
       "    </tr>\n",
       "    <tr>\n",
       "      <th>...</th>\n",
       "      <td>...</td>\n",
       "      <td>...</td>\n",
       "      <td>...</td>\n",
       "      <td>...</td>\n",
       "      <td>...</td>\n",
       "    </tr>\n",
       "    <tr>\n",
       "      <th>3361</th>\n",
       "      <td>Thu Nov 25 2021</td>\n",
       "      <td>148.95</td>\n",
       "      <td>146.50</td>\n",
       "      <td>147.00</td>\n",
       "      <td>147.75</td>\n",
       "    </tr>\n",
       "    <tr>\n",
       "      <th>3362</th>\n",
       "      <td>Fri Nov 26 2021</td>\n",
       "      <td>149.00</td>\n",
       "      <td>147.00</td>\n",
       "      <td>147.75</td>\n",
       "      <td>148.01</td>\n",
       "    </tr>\n",
       "    <tr>\n",
       "      <th>3363</th>\n",
       "      <td>Mon Nov 29 2021</td>\n",
       "      <td>158.90</td>\n",
       "      <td>147.10</td>\n",
       "      <td>148.01</td>\n",
       "      <td>151.00</td>\n",
       "    </tr>\n",
       "    <tr>\n",
       "      <th>3364</th>\n",
       "      <td>Tue Nov 30 2021</td>\n",
       "      <td>151.00</td>\n",
       "      <td>148.00</td>\n",
       "      <td>151.00</td>\n",
       "      <td>148.50</td>\n",
       "    </tr>\n",
       "    <tr>\n",
       "      <th>3365</th>\n",
       "      <td>Wed Dec 01 2021</td>\n",
       "      <td>150.00</td>\n",
       "      <td>147.50</td>\n",
       "      <td>148.50</td>\n",
       "      <td>149.00</td>\n",
       "    </tr>\n",
       "  </tbody>\n",
       "</table>\n",
       "<p>3366 rows × 5 columns</p>\n",
       "</div>"
      ],
      "text/plain": [
       "             category    high     low    open   close\n",
       "0     Thu Dec 06 2007   11.56   11.42   11.53   11.56\n",
       "1     Fri Dec 07 2007   12.13   11.50   11.56   12.28\n",
       "2     Mon Dec 10 2007   12.44   12.00   12.28   12.27\n",
       "3     Tue Dec 11 2007   12.44   12.15   12.27   12.29\n",
       "4     Wed Dec 12 2007   12.73   12.15   12.29   12.38\n",
       "...               ...     ...     ...     ...     ...\n",
       "3361  Thu Nov 25 2021  148.95  146.50  147.00  147.75\n",
       "3362  Fri Nov 26 2021  149.00  147.00  147.75  148.01\n",
       "3363  Mon Nov 29 2021  158.90  147.10  148.01  151.00\n",
       "3364  Tue Nov 30 2021  151.00  148.00  151.00  148.50\n",
       "3365  Wed Dec 01 2021  150.00  147.50  148.50  149.00\n",
       "\n",
       "[3366 rows x 5 columns]"
      ]
     },
     "execution_count": 5,
     "metadata": {},
     "output_type": "execute_result"
    }
   ],
   "source": [
    "\n",
    "df.drop(columns='series-0- price')"
   ]
  },
  {
   "cell_type": "code",
   "execution_count": 6,
   "id": "1a9090c5",
   "metadata": {},
   "outputs": [
    {
     "data": {
      "text/plain": [
       "category           0\n",
       "series-0- price    0\n",
       "high               0\n",
       "low                0\n",
       "open               0\n",
       "close              0\n",
       "dtype: int64"
      ]
     },
     "execution_count": 6,
     "metadata": {},
     "output_type": "execute_result"
    }
   ],
   "source": [
    "df.isnull().sum()"
   ]
  },
  {
   "cell_type": "code",
   "execution_count": 7,
   "id": "8073f659",
   "metadata": {},
   "outputs": [
    {
     "name": "stdout",
     "output_type": "stream",
     "text": [
      "<class 'pandas.core.frame.DataFrame'>\n",
      "RangeIndex: 3366 entries, 0 to 3365\n",
      "Data columns (total 6 columns):\n",
      " #   Column           Non-Null Count  Dtype  \n",
      "---  ------           --------------  -----  \n",
      " 0   category         3366 non-null   object \n",
      " 1   series-0- price  3366 non-null   float64\n",
      " 2   high             3366 non-null   float64\n",
      " 3   low              3366 non-null   float64\n",
      " 4   open             3366 non-null   float64\n",
      " 5   close            3366 non-null   float64\n",
      "dtypes: float64(5), object(1)\n",
      "memory usage: 157.9+ KB\n"
     ]
    }
   ],
   "source": [
    "df.info()"
   ]
  },
  {
   "cell_type": "code",
   "execution_count": 8,
   "id": "6f6ba45b",
   "metadata": {},
   "outputs": [
    {
     "data": {
      "text/html": [
       "<div>\n",
       "<style scoped>\n",
       "    .dataframe tbody tr th:only-of-type {\n",
       "        vertical-align: middle;\n",
       "    }\n",
       "\n",
       "    .dataframe tbody tr th {\n",
       "        vertical-align: top;\n",
       "    }\n",
       "\n",
       "    .dataframe thead th {\n",
       "        text-align: right;\n",
       "    }\n",
       "</style>\n",
       "<table border=\"1\" class=\"dataframe\">\n",
       "  <thead>\n",
       "    <tr style=\"text-align: right;\">\n",
       "      <th></th>\n",
       "      <th>series-0- price</th>\n",
       "      <th>high</th>\n",
       "      <th>low</th>\n",
       "      <th>open</th>\n",
       "      <th>close</th>\n",
       "    </tr>\n",
       "  </thead>\n",
       "  <tbody>\n",
       "    <tr>\n",
       "      <th>count</th>\n",
       "      <td>3366.000000</td>\n",
       "      <td>3366.000000</td>\n",
       "      <td>3366.000000</td>\n",
       "      <td>3366.000000</td>\n",
       "      <td>3366.000000</td>\n",
       "    </tr>\n",
       "    <tr>\n",
       "      <th>mean</th>\n",
       "      <td>35.947338</td>\n",
       "      <td>36.432935</td>\n",
       "      <td>35.466141</td>\n",
       "      <td>35.936215</td>\n",
       "      <td>35.977056</td>\n",
       "    </tr>\n",
       "    <tr>\n",
       "      <th>std</th>\n",
       "      <td>29.967181</td>\n",
       "      <td>30.429420</td>\n",
       "      <td>29.544234</td>\n",
       "      <td>29.986599</td>\n",
       "      <td>30.046902</td>\n",
       "    </tr>\n",
       "    <tr>\n",
       "      <th>min</th>\n",
       "      <td>4.350000</td>\n",
       "      <td>4.390000</td>\n",
       "      <td>4.220000</td>\n",
       "      <td>4.220000</td>\n",
       "      <td>4.220000</td>\n",
       "    </tr>\n",
       "    <tr>\n",
       "      <th>25%</th>\n",
       "      <td>11.000000</td>\n",
       "      <td>11.195000</td>\n",
       "      <td>10.765000</td>\n",
       "      <td>10.992500</td>\n",
       "      <td>10.992500</td>\n",
       "    </tr>\n",
       "    <tr>\n",
       "      <th>50%</th>\n",
       "      <td>26.855000</td>\n",
       "      <td>27.015000</td>\n",
       "      <td>26.560000</td>\n",
       "      <td>26.880000</td>\n",
       "      <td>26.880000</td>\n",
       "    </tr>\n",
       "    <tr>\n",
       "      <th>75%</th>\n",
       "      <td>51.627500</td>\n",
       "      <td>52.597500</td>\n",
       "      <td>51.190000</td>\n",
       "      <td>51.827500</td>\n",
       "      <td>51.860000</td>\n",
       "    </tr>\n",
       "    <tr>\n",
       "      <th>max</th>\n",
       "      <td>153.900000</td>\n",
       "      <td>158.900000</td>\n",
       "      <td>152.500000</td>\n",
       "      <td>155.000000</td>\n",
       "      <td>155.000000</td>\n",
       "    </tr>\n",
       "  </tbody>\n",
       "</table>\n",
       "</div>"
      ],
      "text/plain": [
       "       series-0- price         high          low         open        close\n",
       "count      3366.000000  3366.000000  3366.000000  3366.000000  3366.000000\n",
       "mean         35.947338    36.432935    35.466141    35.936215    35.977056\n",
       "std          29.967181    30.429420    29.544234    29.986599    30.046902\n",
       "min           4.350000     4.390000     4.220000     4.220000     4.220000\n",
       "25%          11.000000    11.195000    10.765000    10.992500    10.992500\n",
       "50%          26.855000    27.015000    26.560000    26.880000    26.880000\n",
       "75%          51.627500    52.597500    51.190000    51.827500    51.860000\n",
       "max         153.900000   158.900000   152.500000   155.000000   155.000000"
      ]
     },
     "execution_count": 8,
     "metadata": {},
     "output_type": "execute_result"
    }
   ],
   "source": [
    "df.describe()"
   ]
  },
  {
   "cell_type": "code",
   "execution_count": 9,
   "id": "47dbb60f",
   "metadata": {},
   "outputs": [
    {
     "data": {
      "image/png": "[encoded data removed]",
      "text/plain": [
       "<Figure size 1152x432 with 1 Axes>"
      ]
     },
     "metadata": {
      "needs_background": "light"
     },
     "output_type": "display_data"
    }
   ],
   "source": [
    "df.close.plot(figsize=(16,6))\n",
    "plt.show()"
   ]
  },
  {
   "cell_type": "code",
   "execution_count": 10,
   "id": "990173e5",
   "metadata": {},
   "outputs": [],
   "source": [
    "x=df[['high','low','open']]\n",
    "y=df['close']"
   ]
  },
  {
   "cell_type": "code",
   "execution_count": 11,
   "id": "e0599782",
   "metadata": {},
   "outputs": [],
   "source": [
    "from sklearn.model_selection import train_test_split\n",
    "X_train,X_test,y_train,y_test=train_test_split(x,y,test_size=0.3,random_state=0)"
   ]
  },
  {
   "cell_type": "code",
   "execution_count": 12,
   "id": "9ad79987",
   "metadata": {},
   "outputs": [
    {
     "data": {
      "text/plain": [
       "(2356, 3)"
      ]
     },
     "execution_count": 12,
     "metadata": {},
     "output_type": "execute_result"
    }
   ],
   "source": [
    "X_train.shape"
   ]
  },
  {
   "cell_type": "code",
   "execution_count": 13,
   "id": "cdbed106",
   "metadata": {},
   "outputs": [
    {
     "data": {
      "text/plain": [
       "(1010, 3)"
      ]
     },
     "execution_count": 13,
     "metadata": {},
     "output_type": "execute_result"
    }
   ],
   "source": [
    "X_test.shape"
   ]
  },
  {
   "cell_type": "code",
   "execution_count": 14,
   "id": "c831c3fc",
   "metadata": {},
   "outputs": [],
   "source": [
    "from sklearn.linear_model import LinearRegression\n",
    "from sklearn.metrics import confusion_matrix,accuracy_score\n",
    "regressor=LinearRegression()"
   ]
  },
  {
   "cell_type": "code",
   "execution_count": 15,
   "id": "b9ee6b75",
   "metadata": {},
   "outputs": [
    {
     "data": {
      "text/plain": [
       "LinearRegression()"
      ]
     },
     "execution_count": 15,
     "metadata": {},
     "output_type": "execute_result"
    }
   ],
   "source": [
    "regressor.fit(X_train,y_train)"
   ]
  },
  {
   "cell_type": "code",
   "execution_count": 16,
   "id": "62de0233",
   "metadata": {},
   "outputs": [
    {
     "name": "stdout",
     "output_type": "stream",
     "text": [
      "[ 0.72917988  0.76331961 -0.4897193 ]\n"
     ]
    }
   ],
   "source": [
    "print(regressor.coef_)"
   ]
  },
  {
   "cell_type": "code",
   "execution_count": 17,
   "id": "d7919510",
   "metadata": {},
   "outputs": [
    {
     "name": "stdout",
     "output_type": "stream",
     "text": [
      "-0.0737346360698794\n"
     ]
    }
   ],
   "source": [
    "print(regressor.intercept_)"
   ]
  },
  {
   "cell_type": "code",
   "execution_count": 18,
   "id": "6672cf5d",
   "metadata": {},
   "outputs": [],
   "source": [
    "predicted=regressor.predict(X_test)"
   ]
  },
  {
   "cell_type": "code",
   "execution_count": 19,
   "id": "e1cff9be",
   "metadata": {},
   "outputs": [
    {
     "name": "stdout",
     "output_type": "stream",
     "text": [
      "       high    low   open\n",
      "1929  28.80  28.28  28.28\n",
      "2989  47.19  46.25  47.03\n",
      "202    9.55   9.55   9.55\n",
      "1652  32.31  31.68  31.75\n",
      "1725  31.03  30.39  31.03\n",
      "...     ...    ...    ...\n",
      "1982  26.88  25.92  26.72\n",
      "909   10.16   9.99   9.64\n",
      "2420  49.65  48.35  48.35\n",
      "1499  24.70  24.32  24.70\n",
      "2730  66.83  66.40  66.83\n",
      "\n",
      "[1010 rows x 3 columns]\n"
     ]
    }
   ],
   "source": [
    "print(X_test)"
   ]
  },
  {
   "cell_type": "code",
   "execution_count": 20,
   "id": "c7e4ceec",
   "metadata": {},
   "outputs": [
    {
     "data": {
      "text/plain": [
       "(1010,)"
      ]
     },
     "execution_count": 20,
     "metadata": {},
     "output_type": "execute_result"
    }
   ],
   "source": [
    "predicted.shape"
   ]
  },
  {
   "cell_type": "code",
   "execution_count": 21,
   "id": "dbdb7e77",
   "metadata": {},
   "outputs": [],
   "source": [
    "df1=pd.DataFrame(y_test,predicted)"
   ]
  },
  {
   "cell_type": "code",
   "execution_count": 22,
   "id": "29ab18c7",
   "metadata": {},
   "outputs": [],
   "source": [
    "dfr=pd.DataFrame({\"Actual price\":y_test,\"predictedprice\":predicted})"
   ]
  },
  {
   "cell_type": "code",
   "execution_count": 23,
   "id": "4437044a",
   "metadata": {},
   "outputs": [
    {
     "name": "stdout",
     "output_type": "stream",
     "text": [
      "      Actual price  predictedprice\n",
      "1929         29.44       28.664063\n",
      "2989         47.35       46.608297\n",
      "202           9.55        9.502816\n",
      "1652         31.99       32.119445\n",
      "1725         30.07       30.554010\n",
      "...            ...             ...\n",
      "1982         26.08       26.226565\n",
      "909          10.15       10.239402\n",
      "2420         48.61       49.358622\n",
      "1499         24.64       24.404875\n",
      "2730         66.83       66.613838\n",
      "\n",
      "[1010 rows x 2 columns]\n"
     ]
    }
   ],
   "source": [
    "print(dfr)"
   ]
  },
  {
   "cell_type": "code",
   "execution_count": 24,
   "id": "88ef80e5",
   "metadata": {},
   "outputs": [
    {
     "data": {
      "text/html": [
       "<div>\n",
       "<style scoped>\n",
       "    .dataframe tbody tr th:only-of-type {\n",
       "        vertical-align: middle;\n",
       "    }\n",
       "\n",
       "    .dataframe tbody tr th {\n",
       "        vertical-align: top;\n",
       "    }\n",
       "\n",
       "    .dataframe thead th {\n",
       "        text-align: right;\n",
       "    }\n",
       "</style>\n",
       "<table border=\"1\" class=\"dataframe\">\n",
       "  <thead>\n",
       "    <tr style=\"text-align: right;\">\n",
       "      <th></th>\n",
       "      <th>Actual price</th>\n",
       "      <th>predictedprice</th>\n",
       "    </tr>\n",
       "  </thead>\n",
       "  <tbody>\n",
       "    <tr>\n",
       "      <th>1929</th>\n",
       "      <td>29.44</td>\n",
       "      <td>28.664063</td>\n",
       "    </tr>\n",
       "    <tr>\n",
       "      <th>2989</th>\n",
       "      <td>47.35</td>\n",
       "      <td>46.608297</td>\n",
       "    </tr>\n",
       "    <tr>\n",
       "      <th>202</th>\n",
       "      <td>9.55</td>\n",
       "      <td>9.502816</td>\n",
       "    </tr>\n",
       "    <tr>\n",
       "      <th>1652</th>\n",
       "      <td>31.99</td>\n",
       "      <td>32.119445</td>\n",
       "    </tr>\n",
       "    <tr>\n",
       "      <th>1725</th>\n",
       "      <td>30.07</td>\n",
       "      <td>30.554010</td>\n",
       "    </tr>\n",
       "    <tr>\n",
       "      <th>710</th>\n",
       "      <td>8.48</td>\n",
       "      <td>8.316762</td>\n",
       "    </tr>\n",
       "    <tr>\n",
       "      <th>565</th>\n",
       "      <td>6.35</td>\n",
       "      <td>6.726922</td>\n",
       "    </tr>\n",
       "    <tr>\n",
       "      <th>1477</th>\n",
       "      <td>24.32</td>\n",
       "      <td>23.839729</td>\n",
       "    </tr>\n",
       "    <tr>\n",
       "      <th>485</th>\n",
       "      <td>6.92</td>\n",
       "      <td>6.775851</td>\n",
       "    </tr>\n",
       "    <tr>\n",
       "      <th>1977</th>\n",
       "      <td>26.24</td>\n",
       "      <td>26.193714</td>\n",
       "    </tr>\n",
       "    <tr>\n",
       "      <th>2780</th>\n",
       "      <td>64.82</td>\n",
       "      <td>64.899507</td>\n",
       "    </tr>\n",
       "    <tr>\n",
       "      <th>3352</th>\n",
       "      <td>139.03</td>\n",
       "      <td>140.430325</td>\n",
       "    </tr>\n",
       "    <tr>\n",
       "      <th>2382</th>\n",
       "      <td>44.43</td>\n",
       "      <td>44.227894</td>\n",
       "    </tr>\n",
       "    <tr>\n",
       "      <th>33</th>\n",
       "      <td>11.75</td>\n",
       "      <td>11.862658</td>\n",
       "    </tr>\n",
       "    <tr>\n",
       "      <th>541</th>\n",
       "      <td>7.44</td>\n",
       "      <td>7.292944</td>\n",
       "    </tr>\n",
       "    <tr>\n",
       "      <th>1370</th>\n",
       "      <td>23.93</td>\n",
       "      <td>23.224284</td>\n",
       "    </tr>\n",
       "    <tr>\n",
       "      <th>306</th>\n",
       "      <td>5.13</td>\n",
       "      <td>5.125210</td>\n",
       "    </tr>\n",
       "    <tr>\n",
       "      <th>2810</th>\n",
       "      <td>56.51</td>\n",
       "      <td>55.471590</td>\n",
       "    </tr>\n",
       "    <tr>\n",
       "      <th>3338</th>\n",
       "      <td>133.90</td>\n",
       "      <td>134.238419</td>\n",
       "    </tr>\n",
       "    <tr>\n",
       "      <th>1196</th>\n",
       "      <td>17.29</td>\n",
       "      <td>17.274363</td>\n",
       "    </tr>\n",
       "    <tr>\n",
       "      <th>1573</th>\n",
       "      <td>26.08</td>\n",
       "      <td>26.417075</td>\n",
       "    </tr>\n",
       "    <tr>\n",
       "      <th>895</th>\n",
       "      <td>9.86</td>\n",
       "      <td>10.139622</td>\n",
       "    </tr>\n",
       "    <tr>\n",
       "      <th>1380</th>\n",
       "      <td>24.83</td>\n",
       "      <td>23.883589</td>\n",
       "    </tr>\n",
       "    <tr>\n",
       "      <th>2929</th>\n",
       "      <td>73.64</td>\n",
       "      <td>76.477358</td>\n",
       "    </tr>\n",
       "    <tr>\n",
       "      <th>1888</th>\n",
       "      <td>31.03</td>\n",
       "      <td>30.841050</td>\n",
       "    </tr>\n",
       "  </tbody>\n",
       "</table>\n",
       "</div>"
      ],
      "text/plain": [
       "      Actual price  predictedprice\n",
       "1929         29.44       28.664063\n",
       "2989         47.35       46.608297\n",
       "202           9.55        9.502816\n",
       "1652         31.99       32.119445\n",
       "1725         30.07       30.554010\n",
       "710           8.48        8.316762\n",
       "565           6.35        6.726922\n",
       "1477         24.32       23.839729\n",
       "485           6.92        6.775851\n",
       "1977         26.24       26.193714\n",
       "2780         64.82       64.899507\n",
       "3352        139.03      140.430325\n",
       "2382         44.43       44.227894\n",
       "33           11.75       11.862658\n",
       "541           7.44        7.292944\n",
       "1370         23.93       23.224284\n",
       "306           5.13        5.125210\n",
       "2810         56.51       55.471590\n",
       "3338        133.90      134.238419\n",
       "1196         17.29       17.274363\n",
       "1573         26.08       26.417075\n",
       "895           9.86       10.139622\n",
       "1380         24.83       23.883589\n",
       "2929         73.64       76.477358\n",
       "1888         31.03       30.841050"
      ]
     },
     "execution_count": 24,
     "metadata": {},
     "output_type": "execute_result"
    }
   ],
   "source": [
    "dfr.head(25)"
   ]
  },
  {
   "cell_type": "code",
   "execution_count": 25,
   "id": "4741ec47",
   "metadata": {},
   "outputs": [
    {
     "data": {
      "text/plain": [
       "0.999460655189232"
      ]
     },
     "execution_count": 25,
     "metadata": {},
     "output_type": "execute_result"
    }
   ],
   "source": [
    "regressor.score(X_test,y_test)"
   ]
  },
  {
   "cell_type": "code",
   "execution_count": 26,
   "id": "0ba41382",
   "metadata": {},
   "outputs": [
    {
     "name": "stdout",
     "output_type": "stream",
     "text": [
      "Mean Absolute error :  0.44073611754082487\n"
     ]
    }
   ],
   "source": [
    "import math\n",
    "print(\"Mean Absolute error : \",metrics.mean_absolute_error(y_test,predicted))"
   ]
  },
  {
   "cell_type": "code",
   "execution_count": 27,
   "id": "a57e0413",
   "metadata": {},
   "outputs": [
    {
     "name": "stdout",
     "output_type": "stream",
     "text": [
      "Mean square error :  0.5469192967861188\n"
     ]
    }
   ],
   "source": [
    "print(\"Mean square error : \",metrics.mean_squared_error(y_test,predicted))"
   ]
  },
  {
   "cell_type": "code",
   "execution_count": 28,
   "id": "5851797d",
   "metadata": {},
   "outputs": [
    {
     "name": "stdout",
     "output_type": "stream",
     "text": [
      "Root Mean square error :  0.7395399223747957\n"
     ]
    }
   ],
   "source": [
    "print(\"Root Mean square error : \",math.sqrt(metrics.mean_squared_error(y_test,predicted)))"
   ]
  },
  {
   "cell_type": "code",
   "execution_count": 29,
   "id": "d083ddb1",
   "metadata": {},
   "outputs": [],
   "source": [
    "graph=dfr.head(20)"
   ]
  },
  {
   "cell_type": "code",
   "execution_count": 30,
   "id": "c64448f8",
   "metadata": {},
   "outputs": [
    {
     "data": {
      "image/png": "[encoded data removed]",
      "text/plain": [
       "<Figure size 432x288 with 1 Axes>"
      ]
     },
     "metadata": {
      "needs_background": "light"
     },
     "output_type": "display_data"
    }
   ],
   "source": [
    "\n",
    "graph.plot(kind='bar')\n",
    "plt.show()"
   ]
  },
  {
   "cell_type": "code",
   "execution_count": null,
   "id": "8400a7e6",
   "metadata": {},
   "outputs": [],
   "source": []
  },
  {
   "cell_type": "code",
   "execution_count": null,
   "id": "8e60f750",
   "metadata": {},
   "outputs": [],
   "source": []
  },
  {
   "cell_type": "code",
   "execution_count": null,
   "id": "a7a87472",
   "metadata": {},
   "outputs": [],
   "source": []
  }
 ],
 "metadata": {
  "kernelspec": {
   "display_name": "Python 3 (ipykernel)",
   "language": "python",
   "name": "python3"
  },
  "language_info": {
   "codemirror_mode": {
    "name": "ipython",
    "version": 3
   },
   "file_extension": ".py",
   "mimetype": "text/x-python",
   "name": "python",
   "nbconvert_exporter": "python",
   "pygments_lexer": "ipython3",
   "version": "3.9.7"
  }
 },
 "nbformat": 4,
 "nbformat_minor": 5
}
