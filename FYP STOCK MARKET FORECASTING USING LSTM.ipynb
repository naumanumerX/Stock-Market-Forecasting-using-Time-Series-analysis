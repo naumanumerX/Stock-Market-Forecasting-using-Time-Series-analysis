{
 "cells": [
  {
   "cell_type": "code",
   "execution_count": 1,
   "metadata": {},
   "outputs": [],
   "source": [
    "# !pip install pandas_datareader\n",
    "# !pip install pandas\n",
    "#pip install numpy\n",
    "# !pip install matplotlib.pyplot\n",
    "# pip install matplotlib\n",
    "#!pip install sklearn.preprocessing\n",
    "#!pip install --upgrade pip\n",
    "#!pip install numpy\n",
    "#!pip install tensorflow"
   ]
  },
  {
   "cell_type": "code",
   "execution_count": 2,
   "metadata": {},
   "outputs": [],
   "source": [
    "\n",
    "import pandas as pd\n",
    "import numpy as np\n",
    "import matplotlib.pyplot as plt\n",
    "import csv\n",
    "from sklearn.preprocessing import MinMaxScaler\n",
    "df = pd.read_csv('meezan.csv')\n",
    "df = df.dropna()\n",
    "\n",
    "\n",
    "\n"
   ]
  },
  {
   "cell_type": "code",
   "execution_count": 3,
   "metadata": {},
   "outputs": [
    {
     "name": "stdout",
     "output_type": "stream",
     "text": [
      "minimum in close price is  4.22\n",
      "maximum in close price is  155.0\n"
     ]
    }
   ],
   "source": [
    "minx=df['close'].min()\n",
    "maxx=df['close'].max()\n",
    "print(\"minimum in close price is \",minx)\n",
    "print(\"maximum in close price is \",maxx)"
   ]
  },
  {
   "cell_type": "code",
   "execution_count": 4,
   "metadata": {},
   "outputs": [
    {
     "data": {
      "text/html": [
       "<div>\n",
       "<style scoped>\n",
       "    .dataframe tbody tr th:only-of-type {\n",
       "        vertical-align: middle;\n",
       "    }\n",
       "\n",
       "    .dataframe tbody tr th {\n",
       "        vertical-align: top;\n",
       "    }\n",
       "\n",
       "    .dataframe thead th {\n",
       "        text-align: right;\n",
       "    }\n",
       "</style>\n",
       "<table border=\"1\" class=\"dataframe\">\n",
       "  <thead>\n",
       "    <tr style=\"text-align: right;\">\n",
       "      <th></th>\n",
       "      <th>category</th>\n",
       "      <th>series-0- price</th>\n",
       "      <th>high</th>\n",
       "      <th>low</th>\n",
       "      <th>open</th>\n",
       "      <th>close</th>\n",
       "    </tr>\n",
       "  </thead>\n",
       "  <tbody>\n",
       "    <tr>\n",
       "      <th>0</th>\n",
       "      <td>Thu Dec 06 2007</td>\n",
       "      <td>11.56</td>\n",
       "      <td>11.56</td>\n",
       "      <td>11.42</td>\n",
       "      <td>11.53</td>\n",
       "      <td>11.56</td>\n",
       "    </tr>\n",
       "    <tr>\n",
       "      <th>1</th>\n",
       "      <td>Fri Dec 07 2007</td>\n",
       "      <td>12.13</td>\n",
       "      <td>12.13</td>\n",
       "      <td>11.50</td>\n",
       "      <td>11.56</td>\n",
       "      <td>12.28</td>\n",
       "    </tr>\n",
       "    <tr>\n",
       "      <th>2</th>\n",
       "      <td>Mon Dec 10 2007</td>\n",
       "      <td>12.27</td>\n",
       "      <td>12.44</td>\n",
       "      <td>12.00</td>\n",
       "      <td>12.28</td>\n",
       "      <td>12.27</td>\n",
       "    </tr>\n",
       "    <tr>\n",
       "      <th>3</th>\n",
       "      <td>Tue Dec 11 2007</td>\n",
       "      <td>12.32</td>\n",
       "      <td>12.44</td>\n",
       "      <td>12.15</td>\n",
       "      <td>12.27</td>\n",
       "      <td>12.29</td>\n",
       "    </tr>\n",
       "    <tr>\n",
       "      <th>4</th>\n",
       "      <td>Wed Dec 12 2007</td>\n",
       "      <td>12.44</td>\n",
       "      <td>12.73</td>\n",
       "      <td>12.15</td>\n",
       "      <td>12.29</td>\n",
       "      <td>12.38</td>\n",
       "    </tr>\n",
       "    <tr>\n",
       "      <th>...</th>\n",
       "      <td>...</td>\n",
       "      <td>...</td>\n",
       "      <td>...</td>\n",
       "      <td>...</td>\n",
       "      <td>...</td>\n",
       "      <td>...</td>\n",
       "    </tr>\n",
       "    <tr>\n",
       "      <th>3361</th>\n",
       "      <td>Thu Nov 25 2021</td>\n",
       "      <td>148.00</td>\n",
       "      <td>148.95</td>\n",
       "      <td>146.50</td>\n",
       "      <td>147.00</td>\n",
       "      <td>147.75</td>\n",
       "    </tr>\n",
       "    <tr>\n",
       "      <th>3362</th>\n",
       "      <td>Fri Nov 26 2021</td>\n",
       "      <td>148.55</td>\n",
       "      <td>149.00</td>\n",
       "      <td>147.00</td>\n",
       "      <td>147.75</td>\n",
       "      <td>148.01</td>\n",
       "    </tr>\n",
       "    <tr>\n",
       "      <th>3363</th>\n",
       "      <td>Mon Nov 29 2021</td>\n",
       "      <td>150.50</td>\n",
       "      <td>158.90</td>\n",
       "      <td>147.10</td>\n",
       "      <td>148.01</td>\n",
       "      <td>151.00</td>\n",
       "    </tr>\n",
       "    <tr>\n",
       "      <th>3364</th>\n",
       "      <td>Tue Nov 30 2021</td>\n",
       "      <td>149.00</td>\n",
       "      <td>151.00</td>\n",
       "      <td>148.00</td>\n",
       "      <td>151.00</td>\n",
       "      <td>148.50</td>\n",
       "    </tr>\n",
       "    <tr>\n",
       "      <th>3365</th>\n",
       "      <td>Wed Dec 01 2021</td>\n",
       "      <td>149.05</td>\n",
       "      <td>150.00</td>\n",
       "      <td>147.50</td>\n",
       "      <td>148.50</td>\n",
       "      <td>149.00</td>\n",
       "    </tr>\n",
       "  </tbody>\n",
       "</table>\n",
       "<p>3366 rows × 6 columns</p>\n",
       "</div>"
      ],
      "text/plain": [
       "             category  series-0- price    high     low    open   close\n",
       "0     Thu Dec 06 2007            11.56   11.56   11.42   11.53   11.56\n",
       "1     Fri Dec 07 2007            12.13   12.13   11.50   11.56   12.28\n",
       "2     Mon Dec 10 2007            12.27   12.44   12.00   12.28   12.27\n",
       "3     Tue Dec 11 2007            12.32   12.44   12.15   12.27   12.29\n",
       "4     Wed Dec 12 2007            12.44   12.73   12.15   12.29   12.38\n",
       "...               ...              ...     ...     ...     ...     ...\n",
       "3361  Thu Nov 25 2021           148.00  148.95  146.50  147.00  147.75\n",
       "3362  Fri Nov 26 2021           148.55  149.00  147.00  147.75  148.01\n",
       "3363  Mon Nov 29 2021           150.50  158.90  147.10  148.01  151.00\n",
       "3364  Tue Nov 30 2021           149.00  151.00  148.00  151.00  148.50\n",
       "3365  Wed Dec 01 2021           149.05  150.00  147.50  148.50  149.00\n",
       "\n",
       "[3366 rows x 6 columns]"
      ]
     },
     "execution_count": 4,
     "metadata": {},
     "output_type": "execute_result"
    }
   ],
   "source": [
    "df"
   ]
  },
  {
   "cell_type": "code",
   "execution_count": 5,
   "metadata": {},
   "outputs": [
    {
     "data": {
      "text/plain": [
       "(3366,)"
      ]
     },
     "execution_count": 5,
     "metadata": {},
     "output_type": "execute_result"
    }
   ],
   "source": [
    "df1=df.reset_index()['close']\n",
    "df1.shape"
   ]
  },
  {
   "cell_type": "code",
   "execution_count": 6,
   "metadata": {},
   "outputs": [
    {
     "data": {
      "image/png": "[encoded data removed]",
      "text/plain": [
       "<Figure size 1080x504 with 1 Axes>"
      ]
     },
     "metadata": {
      "needs_background": "light"
     },
     "output_type": "display_data"
    }
   ],
   "source": [
    "plt.figure(figsize=(15,7))\n",
    "\n",
    "# df2=df.reset_index()['close']\n",
    "# df2.shape\n",
    "\n",
    "plt.plot(df1)\n",
    "# plt.xticks(df.close[::5])\n",
    "# plt.yticks(df.close[::5])\n",
    "# plt.xlim(df.close.min(), df.close.max())\n",
    "plt.ylim(df.close.min(), df.close.max())\n",
    "plt.show()"
   ]
  },
  {
   "cell_type": "code",
   "execution_count": 7,
   "metadata": {},
   "outputs": [
    {
     "data": {
      "text/html": [
       "<div>\n",
       "<style scoped>\n",
       "    .dataframe tbody tr th:only-of-type {\n",
       "        vertical-align: middle;\n",
       "    }\n",
       "\n",
       "    .dataframe tbody tr th {\n",
       "        vertical-align: top;\n",
       "    }\n",
       "\n",
       "    .dataframe thead th {\n",
       "        text-align: right;\n",
       "    }\n",
       "</style>\n",
       "<table border=\"1\" class=\"dataframe\">\n",
       "  <thead>\n",
       "    <tr style=\"text-align: right;\">\n",
       "      <th></th>\n",
       "      <th>category</th>\n",
       "      <th>high</th>\n",
       "      <th>low</th>\n",
       "      <th>open</th>\n",
       "      <th>close</th>\n",
       "    </tr>\n",
       "  </thead>\n",
       "  <tbody>\n",
       "    <tr>\n",
       "      <th>0</th>\n",
       "      <td>Thu Dec 06 2007</td>\n",
       "      <td>11.56</td>\n",
       "      <td>11.42</td>\n",
       "      <td>11.53</td>\n",
       "      <td>11.56</td>\n",
       "    </tr>\n",
       "    <tr>\n",
       "      <th>1</th>\n",
       "      <td>Fri Dec 07 2007</td>\n",
       "      <td>12.13</td>\n",
       "      <td>11.50</td>\n",
       "      <td>11.56</td>\n",
       "      <td>12.28</td>\n",
       "    </tr>\n",
       "    <tr>\n",
       "      <th>2</th>\n",
       "      <td>Mon Dec 10 2007</td>\n",
       "      <td>12.44</td>\n",
       "      <td>12.00</td>\n",
       "      <td>12.28</td>\n",
       "      <td>12.27</td>\n",
       "    </tr>\n",
       "    <tr>\n",
       "      <th>3</th>\n",
       "      <td>Tue Dec 11 2007</td>\n",
       "      <td>12.44</td>\n",
       "      <td>12.15</td>\n",
       "      <td>12.27</td>\n",
       "      <td>12.29</td>\n",
       "    </tr>\n",
       "    <tr>\n",
       "      <th>4</th>\n",
       "      <td>Wed Dec 12 2007</td>\n",
       "      <td>12.73</td>\n",
       "      <td>12.15</td>\n",
       "      <td>12.29</td>\n",
       "      <td>12.38</td>\n",
       "    </tr>\n",
       "    <tr>\n",
       "      <th>...</th>\n",
       "      <td>...</td>\n",
       "      <td>...</td>\n",
       "      <td>...</td>\n",
       "      <td>...</td>\n",
       "      <td>...</td>\n",
       "    </tr>\n",
       "    <tr>\n",
       "      <th>3361</th>\n",
       "      <td>Thu Nov 25 2021</td>\n",
       "      <td>148.95</td>\n",
       "      <td>146.50</td>\n",
       "      <td>147.00</td>\n",
       "      <td>147.75</td>\n",
       "    </tr>\n",
       "    <tr>\n",
       "      <th>3362</th>\n",
       "      <td>Fri Nov 26 2021</td>\n",
       "      <td>149.00</td>\n",
       "      <td>147.00</td>\n",
       "      <td>147.75</td>\n",
       "      <td>148.01</td>\n",
       "    </tr>\n",
       "    <tr>\n",
       "      <th>3363</th>\n",
       "      <td>Mon Nov 29 2021</td>\n",
       "      <td>158.90</td>\n",
       "      <td>147.10</td>\n",
       "      <td>148.01</td>\n",
       "      <td>151.00</td>\n",
       "    </tr>\n",
       "    <tr>\n",
       "      <th>3364</th>\n",
       "      <td>Tue Nov 30 2021</td>\n",
       "      <td>151.00</td>\n",
       "      <td>148.00</td>\n",
       "      <td>151.00</td>\n",
       "      <td>148.50</td>\n",
       "    </tr>\n",
       "    <tr>\n",
       "      <th>3365</th>\n",
       "      <td>Wed Dec 01 2021</td>\n",
       "      <td>150.00</td>\n",
       "      <td>147.50</td>\n",
       "      <td>148.50</td>\n",
       "      <td>149.00</td>\n",
       "    </tr>\n",
       "  </tbody>\n",
       "</table>\n",
       "<p>3366 rows × 5 columns</p>\n",
       "</div>"
      ],
      "text/plain": [
       "             category    high     low    open   close\n",
       "0     Thu Dec 06 2007   11.56   11.42   11.53   11.56\n",
       "1     Fri Dec 07 2007   12.13   11.50   11.56   12.28\n",
       "2     Mon Dec 10 2007   12.44   12.00   12.28   12.27\n",
       "3     Tue Dec 11 2007   12.44   12.15   12.27   12.29\n",
       "4     Wed Dec 12 2007   12.73   12.15   12.29   12.38\n",
       "...               ...     ...     ...     ...     ...\n",
       "3361  Thu Nov 25 2021  148.95  146.50  147.00  147.75\n",
       "3362  Fri Nov 26 2021  149.00  147.00  147.75  148.01\n",
       "3363  Mon Nov 29 2021  158.90  147.10  148.01  151.00\n",
       "3364  Tue Nov 30 2021  151.00  148.00  151.00  148.50\n",
       "3365  Wed Dec 01 2021  150.00  147.50  148.50  149.00\n",
       "\n",
       "[3366 rows x 5 columns]"
      ]
     },
     "execution_count": 7,
     "metadata": {},
     "output_type": "execute_result"
    }
   ],
   "source": [
    "df\n",
    "df.drop(columns='series-0- price')"
   ]
  },
  {
   "cell_type": "code",
   "execution_count": 8,
   "metadata": {},
   "outputs": [],
   "source": [
    "from sklearn.preprocessing import MinMaxScaler"
   ]
  },
  {
   "cell_type": "code",
   "execution_count": 9,
   "metadata": {},
   "outputs": [
    {
     "data": {
      "text/plain": [
       "(3366, 1)"
      ]
     },
     "execution_count": 9,
     "metadata": {},
     "output_type": "execute_result"
    }
   ],
   "source": [
    "scaler=MinMaxScaler(feature_range=(0,1))\n",
    "df1=scaler.fit_transform(np.array(df1).reshape(-1,1))\n",
    "df1.shape\n",
    "#jjprint(df1)"
   ]
  },
  {
   "cell_type": "code",
   "execution_count": 10,
   "metadata": {},
   "outputs": [
    {
     "data": {
      "text/plain": [
       "array([[0.0486802 ],\n",
       "       [0.05345537],\n",
       "       [0.05338904],\n",
       "       ...,\n",
       "       [0.97347128],\n",
       "       [0.95689083],\n",
       "       [0.96020692]])"
      ]
     },
     "execution_count": 10,
     "metadata": {},
     "output_type": "execute_result"
    }
   ],
   "source": [
    "df1"
   ]
  },
  {
   "cell_type": "code",
   "execution_count": 11,
   "metadata": {},
   "outputs": [],
   "source": [
    "training_size=int(len(df1)*0.75)\n",
    "test_size=len(df1)-training_size\n",
    "train_data,test_data=df1[0:training_size,:],df1[training_size:len(df1),:1]"
   ]
  },
  {
   "cell_type": "code",
   "execution_count": 12,
   "metadata": {},
   "outputs": [
    {
     "data": {
      "text/plain": [
       "(2524, 842)"
      ]
     },
     "execution_count": 12,
     "metadata": {},
     "output_type": "execute_result"
    }
   ],
   "source": [
    "training_size,test_size"
   ]
  },
  {
   "cell_type": "code",
   "execution_count": 13,
   "metadata": {},
   "outputs": [],
   "source": [
    "# len(train_data)\n",
    "# len(test_data)\n",
    "# training_size,test_size\n",
    "import numpy as np\n",
    "def create_dataset(dataset,time_step=1):\n",
    "    dataX,dataY=[],[]\n",
    "    for i in range(len(dataset)-time_step-1):\n",
    "        a=dataset[i:(i+time_step),0]\n",
    "        dataX.append(a)\n",
    "        dataY.append(dataset[i+time_step,0])\n",
    "        \n",
    "    return np.array(dataX),np.array(dataY)"
   ]
  },
  {
   "cell_type": "code",
   "execution_count": 14,
   "metadata": {},
   "outputs": [
    {
     "name": "stdout",
     "output_type": "stream",
     "text": [
      "(2423, 100)\n",
      "(2423,)\n"
     ]
    },
    {
     "data": {
      "text/plain": [
       "(None, None)"
      ]
     },
     "execution_count": 14,
     "metadata": {},
     "output_type": "execute_result"
    }
   ],
   "source": [
    "time_step=100\n",
    "X_train,y_train=create_dataset(train_data,time_step)\n",
    "X_test,ytest=create_dataset(test_data,time_step)\n",
    "print(X_train.shape),print(y_train.shape)\n"
   ]
  },
  {
   "cell_type": "code",
   "execution_count": 15,
   "metadata": {},
   "outputs": [
    {
     "name": "stdout",
     "output_type": "stream",
     "text": [
      "(741, 100)\n",
      "(741,)\n"
     ]
    },
    {
     "data": {
      "text/plain": [
       "(None, None)"
      ]
     },
     "execution_count": 15,
     "metadata": {},
     "output_type": "execute_result"
    }
   ],
   "source": [
    "print(X_test.shape),print(ytest.shape)"
   ]
  },
  {
   "cell_type": "code",
   "execution_count": 16,
   "metadata": {},
   "outputs": [],
   "source": [
    "X_train=X_train.reshape(X_train.shape[0],X_train.shape[1],1)\n",
    "\n",
    "X_test=X_test.reshape(X_test.shape[0],X_test.shape[1],1)"
   ]
  },
  {
   "cell_type": "code",
   "execution_count": 17,
   "metadata": {},
   "outputs": [],
   "source": [
    "from tensorflow.keras.models import Sequential\n",
    "\n",
    "from tensorflow.keras.layers import Dense\n",
    "\n",
    "from tensorflow.keras.layers import LSTM\n"
   ]
  },
  {
   "cell_type": "code",
   "execution_count": 18,
   "metadata": {},
   "outputs": [],
   "source": [
    "model=Sequential()\n",
    "model.add(LSTM(50,return_sequences=True,input_shape=(100,1)))\n",
    "model.add(LSTM(50,return_sequences=True))\n",
    "#model.add(LSTM(50,return_sequences=True)) #extra layer\n",
    "model.add(LSTM(50))\n",
    "model.add(Dense(1))\n",
    "model.compile(loss='mean_squared_error',optimizer='adam')\n"
   ]
  },
  {
   "cell_type": "code",
   "execution_count": 19,
   "metadata": {},
   "outputs": [
    {
     "name": "stdout",
     "output_type": "stream",
     "text": [
      "Model: \"sequential\"\n",
      "_________________________________________________________________\n",
      " Layer (type)                Output Shape              Param #   \n",
      "=================================================================\n",
      " lstm (LSTM)                 (None, 100, 50)           10400     \n",
      "                                                                 \n",
      " lstm_1 (LSTM)               (None, 100, 50)           20200     \n",
      "                                                                 \n",
      " lstm_2 (LSTM)               (None, 50)                20200     \n",
      "                                                                 \n",
      " dense (Dense)               (None, 1)                 51        \n",
      "                                                                 \n",
      "=================================================================\n",
      "Total params: 50,851\n",
      "Trainable params: 50,851\n",
      "Non-trainable params: 0\n",
      "_________________________________________________________________\n"
     ]
    }
   ],
   "source": [
    "model.summary()"
   ]
  },
  {
   "cell_type": "code",
   "execution_count": 20,
   "metadata": {},
   "outputs": [
    {
     "name": "stdout",
     "output_type": "stream",
     "text": [
      "Epoch 1/100\n",
      "38/38 [==============================] - 10s 164ms/step - loss: 0.0020 - val_loss: 0.0061\n",
      "Epoch 2/100\n",
      "38/38 [==============================] - 5s 135ms/step - loss: 1.0829e-04 - val_loss: 0.0028\n",
      "Epoch 3/100\n",
      "38/38 [==============================] - 5s 136ms/step - loss: 7.8090e-05 - val_loss: 0.0026\n",
      "Epoch 4/100\n",
      "38/38 [==============================] - 5s 135ms/step - loss: 7.4772e-05 - val_loss: 0.0027\n",
      "Epoch 5/100\n",
      "38/38 [==============================] - 5s 136ms/step - loss: 7.2731e-05 - val_loss: 0.0026\n",
      "Epoch 6/100\n",
      "38/38 [==============================] - 5s 136ms/step - loss: 7.4975e-05 - val_loss: 0.0026\n",
      "Epoch 7/100\n",
      "38/38 [==============================] - 5s 136ms/step - loss: 7.4937e-05 - val_loss: 0.0028\n",
      "Epoch 8/100\n",
      "38/38 [==============================] - 5s 135ms/step - loss: 7.3983e-05 - val_loss: 0.0035\n",
      "Epoch 9/100\n",
      "38/38 [==============================] - 5s 136ms/step - loss: 1.0011e-04 - val_loss: 0.0019\n",
      "Epoch 10/100\n",
      "38/38 [==============================] - 5s 135ms/step - loss: 8.6813e-05 - val_loss: 0.0024\n",
      "Epoch 11/100\n",
      "38/38 [==============================] - 5s 133ms/step - loss: 6.8587e-05 - val_loss: 0.0019\n",
      "Epoch 12/100\n",
      "38/38 [==============================] - 6s 158ms/step - loss: 7.3341e-05 - val_loss: 0.0021\n",
      "Epoch 13/100\n",
      "38/38 [==============================] - 6s 168ms/step - loss: 7.1061e-05 - val_loss: 0.0021\n",
      "Epoch 14/100\n",
      "38/38 [==============================] - 6s 166ms/step - loss: 6.4684e-05 - val_loss: 0.0017\n",
      "Epoch 15/100\n",
      "38/38 [==============================] - 6s 155ms/step - loss: 6.1864e-05 - val_loss: 0.0025\n",
      "Epoch 16/100\n",
      "38/38 [==============================] - 5s 139ms/step - loss: 6.6899e-05 - val_loss: 0.0012\n",
      "Epoch 17/100\n",
      "38/38 [==============================] - 5s 137ms/step - loss: 6.2403e-05 - val_loss: 0.0021\n",
      "Epoch 18/100\n",
      "38/38 [==============================] - 5s 139ms/step - loss: 6.1040e-05 - val_loss: 0.0021\n",
      "Epoch 19/100\n",
      "38/38 [==============================] - 5s 136ms/step - loss: 6.3913e-05 - val_loss: 0.0012\n",
      "Epoch 20/100\n",
      "38/38 [==============================] - 6s 146ms/step - loss: 5.9208e-05 - val_loss: 0.0011\n",
      "Epoch 21/100\n",
      "38/38 [==============================] - 6s 151ms/step - loss: 6.3211e-05 - val_loss: 0.0018\n",
      "Epoch 22/100\n",
      "38/38 [==============================] - 6s 153ms/step - loss: 6.1845e-05 - val_loss: 9.0076e-04\n",
      "Epoch 23/100\n",
      "38/38 [==============================] - 6s 152ms/step - loss: 5.8245e-05 - val_loss: 0.0012\n",
      "Epoch 24/100\n",
      "38/38 [==============================] - 6s 171ms/step - loss: 5.3511e-05 - val_loss: 0.0013\n",
      "Epoch 25/100\n",
      "38/38 [==============================] - 6s 160ms/step - loss: 5.8140e-05 - val_loss: 0.0012\n",
      "Epoch 26/100\n",
      "38/38 [==============================] - 6s 159ms/step - loss: 5.4040e-05 - val_loss: 7.7642e-04\n",
      "Epoch 27/100\n",
      "38/38 [==============================] - 6s 167ms/step - loss: 5.5842e-05 - val_loss: 0.0011\n",
      "Epoch 28/100\n",
      "38/38 [==============================] - 6s 161ms/step - loss: 5.2022e-05 - val_loss: 0.0013\n",
      "Epoch 29/100\n",
      "38/38 [==============================] - 6s 150ms/step - loss: 5.8388e-05 - val_loss: 8.7077e-04\n",
      "Epoch 30/100\n",
      "38/38 [==============================] - 6s 149ms/step - loss: 5.0679e-05 - val_loss: 8.8763e-04\n",
      "Epoch 31/100\n",
      "38/38 [==============================] - 6s 150ms/step - loss: 5.3040e-05 - val_loss: 6.9156e-04\n",
      "Epoch 32/100\n",
      "38/38 [==============================] - 6s 150ms/step - loss: 4.8794e-05 - val_loss: 8.3306e-04\n",
      "Epoch 33/100\n",
      "38/38 [==============================] - 5s 145ms/step - loss: 5.0132e-05 - val_loss: 6.4241e-04\n",
      "Epoch 34/100\n",
      "38/38 [==============================] - 7s 184ms/step - loss: 5.6074e-05 - val_loss: 0.0015\n",
      "Epoch 35/100\n",
      "38/38 [==============================] - 6s 159ms/step - loss: 6.7404e-05 - val_loss: 6.8003e-04\n",
      "Epoch 36/100\n",
      "38/38 [==============================] - 5s 134ms/step - loss: 5.3110e-05 - val_loss: 0.0015\n",
      "Epoch 37/100\n",
      "38/38 [==============================] - 5s 139ms/step - loss: 4.7537e-05 - val_loss: 7.6200e-04\n",
      "Epoch 38/100\n",
      "38/38 [==============================] - 5s 139ms/step - loss: 4.2803e-05 - val_loss: 0.0012\n",
      "Epoch 39/100\n",
      "38/38 [==============================] - 5s 137ms/step - loss: 4.6073e-05 - val_loss: 7.9970e-04\n",
      "Epoch 40/100\n",
      "38/38 [==============================] - 5s 140ms/step - loss: 4.3365e-05 - val_loss: 6.4450e-04\n",
      "Epoch 41/100\n",
      "38/38 [==============================] - 5s 134ms/step - loss: 4.7477e-05 - val_loss: 5.6576e-04\n",
      "Epoch 42/100\n",
      "38/38 [==============================] - 5s 132ms/step - loss: 4.0839e-05 - val_loss: 7.3945e-04\n",
      "Epoch 43/100\n",
      "38/38 [==============================] - 5s 133ms/step - loss: 3.9219e-05 - val_loss: 6.6815e-04\n",
      "Epoch 44/100\n",
      "38/38 [==============================] - 5s 135ms/step - loss: 3.9251e-05 - val_loss: 9.6358e-04\n",
      "Epoch 45/100\n",
      "38/38 [==============================] - 5s 136ms/step - loss: 5.6120e-05 - val_loss: 5.7811e-04\n",
      "Epoch 46/100\n",
      "38/38 [==============================] - 5s 135ms/step - loss: 4.4840e-05 - val_loss: 5.7698e-04\n",
      "Epoch 47/100\n",
      "38/38 [==============================] - 5s 136ms/step - loss: 4.8817e-05 - val_loss: 7.1926e-04\n",
      "Epoch 48/100\n",
      "38/38 [==============================] - 5s 132ms/step - loss: 5.0599e-05 - val_loss: 0.0010\n",
      "Epoch 49/100\n",
      "38/38 [==============================] - 5s 145ms/step - loss: 4.2808e-05 - val_loss: 0.0013\n",
      "Epoch 50/100\n",
      "38/38 [==============================] - 5s 140ms/step - loss: 4.2337e-05 - val_loss: 5.9767e-04\n",
      "Epoch 51/100\n",
      "38/38 [==============================] - 5s 140ms/step - loss: 3.5800e-05 - val_loss: 8.6520e-04\n",
      "Epoch 52/100\n",
      "38/38 [==============================] - 6s 147ms/step - loss: 4.3014e-05 - val_loss: 4.5699e-04\n",
      "Epoch 53/100\n",
      "38/38 [==============================] - 5s 140ms/step - loss: 3.9068e-05 - val_loss: 5.4961e-04\n",
      "Epoch 54/100\n",
      "38/38 [==============================] - 5s 135ms/step - loss: 3.7692e-05 - val_loss: 4.9570e-04\n",
      "Epoch 55/100\n",
      "38/38 [==============================] - 5s 136ms/step - loss: 3.9410e-05 - val_loss: 6.8766e-04\n",
      "Epoch 56/100\n",
      "38/38 [==============================] - 5s 132ms/step - loss: 3.4711e-05 - val_loss: 4.0509e-04\n",
      "Epoch 57/100\n",
      "38/38 [==============================] - 5s 133ms/step - loss: 4.0210e-05 - val_loss: 4.7573e-04\n",
      "Epoch 58/100\n",
      "38/38 [==============================] - 5s 133ms/step - loss: 3.3827e-05 - val_loss: 4.7710e-04\n",
      "Epoch 59/100\n",
      "38/38 [==============================] - 5s 133ms/step - loss: 3.2597e-05 - val_loss: 4.0700e-04\n",
      "Epoch 60/100\n",
      "38/38 [==============================] - 5s 131ms/step - loss: 3.3312e-05 - val_loss: 4.6188e-04\n",
      "Epoch 61/100\n",
      "38/38 [==============================] - 5s 135ms/step - loss: 3.2743e-05 - val_loss: 5.0978e-04\n",
      "Epoch 62/100\n",
      "38/38 [==============================] - 5s 133ms/step - loss: 3.1880e-05 - val_loss: 4.7138e-04\n",
      "Epoch 63/100\n",
      "38/38 [==============================] - 5s 134ms/step - loss: 3.1739e-05 - val_loss: 3.6492e-04\n",
      "Epoch 64/100\n",
      "38/38 [==============================] - 6s 150ms/step - loss: 4.6502e-05 - val_loss: 4.7620e-04\n",
      "Epoch 65/100\n",
      "38/38 [==============================] - 6s 145ms/step - loss: 3.3700e-05 - val_loss: 3.6254e-04\n",
      "Epoch 66/100\n",
      "38/38 [==============================] - 5s 139ms/step - loss: 3.3528e-05 - val_loss: 3.7327e-04\n",
      "Epoch 67/100\n",
      "38/38 [==============================] - 5s 138ms/step - loss: 3.1872e-05 - val_loss: 6.0828e-04\n",
      "Epoch 68/100\n",
      "38/38 [==============================] - 5s 142ms/step - loss: 3.5476e-05 - val_loss: 4.9201e-04\n",
      "Epoch 69/100\n",
      "38/38 [==============================] - 5s 140ms/step - loss: 3.4740e-05 - val_loss: 5.0717e-04\n",
      "Epoch 70/100\n",
      "38/38 [==============================] - 5s 135ms/step - loss: 3.8050e-05 - val_loss: 4.1054e-04\n",
      "Epoch 71/100\n",
      "38/38 [==============================] - 5s 135ms/step - loss: 3.5480e-05 - val_loss: 3.5851e-04\n",
      "Epoch 72/100\n",
      "38/38 [==============================] - 5s 138ms/step - loss: 3.2356e-05 - val_loss: 3.9981e-04\n",
      "Epoch 73/100\n",
      "38/38 [==============================] - 5s 135ms/step - loss: 3.2767e-05 - val_loss: 3.9307e-04\n",
      "Epoch 74/100\n",
      "38/38 [==============================] - 5s 137ms/step - loss: 3.3723e-05 - val_loss: 5.1802e-04\n",
      "Epoch 75/100\n",
      "38/38 [==============================] - 5s 136ms/step - loss: 2.9862e-05 - val_loss: 3.4825e-04\n",
      "Epoch 76/100\n",
      "38/38 [==============================] - 5s 137ms/step - loss: 3.1698e-05 - val_loss: 3.2189e-04\n",
      "Epoch 77/100\n",
      "38/38 [==============================] - 5s 139ms/step - loss: 3.2494e-05 - val_loss: 3.6148e-04\n",
      "Epoch 78/100\n",
      "38/38 [==============================] - 5s 135ms/step - loss: 2.8847e-05 - val_loss: 4.4124e-04\n",
      "Epoch 79/100\n",
      "38/38 [==============================] - 5s 138ms/step - loss: 3.3032e-05 - val_loss: 5.4420e-04\n",
      "Epoch 80/100\n",
      "38/38 [==============================] - 5s 141ms/step - loss: 2.8626e-05 - val_loss: 2.8085e-04\n",
      "Epoch 81/100\n",
      "38/38 [==============================] - 6s 150ms/step - loss: 3.2663e-05 - val_loss: 5.6174e-04\n",
      "Epoch 82/100\n",
      "38/38 [==============================] - 5s 142ms/step - loss: 2.7461e-05 - val_loss: 4.0234e-04\n",
      "Epoch 83/100\n",
      "38/38 [==============================] - 5s 139ms/step - loss: 2.7329e-05 - val_loss: 6.0405e-04\n",
      "Epoch 84/100\n",
      "38/38 [==============================] - 5s 138ms/step - loss: 3.6790e-05 - val_loss: 5.0178e-04\n",
      "Epoch 85/100\n",
      "38/38 [==============================] - 5s 140ms/step - loss: 3.1300e-05 - val_loss: 5.1132e-04\n",
      "Epoch 86/100\n",
      "38/38 [==============================] - 5s 144ms/step - loss: 2.9219e-05 - val_loss: 2.6973e-04\n",
      "Epoch 87/100\n",
      "38/38 [==============================] - 5s 142ms/step - loss: 2.8688e-05 - val_loss: 2.8584e-04\n",
      "Epoch 88/100\n",
      "38/38 [==============================] - 6s 149ms/step - loss: 2.7176e-05 - val_loss: 4.1168e-04\n",
      "Epoch 89/100\n",
      "38/38 [==============================] - 5s 142ms/step - loss: 2.5456e-05 - val_loss: 2.7197e-04\n",
      "Epoch 90/100\n",
      "38/38 [==============================] - 6s 145ms/step - loss: 2.7118e-05 - val_loss: 3.4723e-04\n",
      "Epoch 91/100\n",
      "38/38 [==============================] - 6s 148ms/step - loss: 2.5793e-05 - val_loss: 5.3150e-04\n",
      "Epoch 92/100\n",
      "38/38 [==============================] - 6s 154ms/step - loss: 2.7939e-05 - val_loss: 3.0365e-04\n",
      "Epoch 93/100\n",
      "38/38 [==============================] - 6s 147ms/step - loss: 3.0197e-05 - val_loss: 2.6762e-04\n",
      "Epoch 94/100\n",
      "38/38 [==============================] - 6s 152ms/step - loss: 3.6419e-05 - val_loss: 3.4030e-04\n",
      "Epoch 95/100\n",
      "38/38 [==============================] - 6s 152ms/step - loss: 2.8756e-05 - val_loss: 5.8124e-04\n",
      "Epoch 96/100\n",
      "38/38 [==============================] - 5s 145ms/step - loss: 2.7899e-05 - val_loss: 3.8119e-04\n",
      "Epoch 97/100\n",
      "38/38 [==============================] - 5s 145ms/step - loss: 2.3838e-05 - val_loss: 4.7069e-04\n",
      "Epoch 98/100\n",
      "38/38 [==============================] - 5s 143ms/step - loss: 2.5277e-05 - val_loss: 2.6120e-04\n",
      "Epoch 99/100\n",
      "38/38 [==============================] - 6s 165ms/step - loss: 2.6267e-05 - val_loss: 3.3481e-04\n",
      "Epoch 100/100\n",
      "38/38 [==============================] - 6s 165ms/step - loss: 3.1241e-05 - val_loss: 2.9221e-04\n"
     ]
    },
    {
     "data": {
      "text/plain": [
       "<keras.callbacks.History at 0x2b0e583f040>"
      ]
     },
     "execution_count": 20,
     "metadata": {},
     "output_type": "execute_result"
    }
   ],
   "source": [
    "model.fit(X_train,y_train,validation_data=(X_test,ytest),epochs=100,batch_size=64,verbose=1)"
   ]
  },
  {
   "cell_type": "code",
   "execution_count": 21,
   "metadata": {},
   "outputs": [],
   "source": [
    "import tensorflow as tf\n"
   ]
  },
  {
   "cell_type": "code",
   "execution_count": 22,
   "metadata": {},
   "outputs": [
    {
     "data": {
      "text/plain": [
       "'2.7.0'"
      ]
     },
     "execution_count": 22,
     "metadata": {},
     "output_type": "execute_result"
    }
   ],
   "source": [
    "tf.__version__"
   ]
  },
  {
   "cell_type": "code",
   "execution_count": 23,
   "metadata": {},
   "outputs": [],
   "source": [
    "train_predict=model.predict(X_train)\n",
    "test_predict=model.predict(X_test)"
   ]
  },
  {
   "cell_type": "code",
   "execution_count": 24,
   "metadata": {
    "scrolled": false
   },
   "outputs": [],
   "source": [
    "train_predict=scaler.inverse_transform(train_predict)\n",
    "test_predict=scaler.inverse_transform(test_predict)"
   ]
  },
  {
   "cell_type": "code",
   "execution_count": 25,
   "metadata": {},
   "outputs": [
    {
     "data": {
      "text/plain": [
       "26.654021260298826"
      ]
     },
     "execution_count": 25,
     "metadata": {},
     "output_type": "execute_result"
    }
   ],
   "source": [
    "import math\n",
    "from sklearn.metrics import mean_squared_error\n",
    "math.sqrt(mean_squared_error(y_train,train_predict))"
   ]
  },
  {
   "cell_type": "code",
   "execution_count": 26,
   "metadata": {},
   "outputs": [
    {
     "data": {
      "text/plain": [
       "83.40110206011212"
      ]
     },
     "execution_count": 26,
     "metadata": {},
     "output_type": "execute_result"
    }
   ],
   "source": [
    "\n",
    "meansquareerror=math.sqrt(mean_squared_error(ytest,test_predict))\n",
    "meansquareerror"
   ]
  },
  {
   "cell_type": "code",
   "execution_count": 27,
   "metadata": {},
   "outputs": [
    {
     "data": {
      "image/png": "[encoded data removed]",
      "text/plain": [
       "<Figure size 432x288 with 1 Axes>"
      ]
     },
     "metadata": {
      "needs_background": "light"
     },
     "output_type": "display_data"
    }
   ],
   "source": [
    "look_back=100  #timestep\n",
    "trainPredictPlot=np.empty_like(df1)\n",
    "trainPredictPlot[:,:]=np.nan\n",
    "trainPredictPlot[look_back:len(train_predict)+look_back,:]=train_predict\n",
    "\n",
    "testPredictPlot=np.empty_like(df1)\n",
    "testPredictPlot[:,:]=np.nan\n",
    "testPredictPlot[len(train_predict)+(look_back*2)+1:len(df1)-1,:]=test_predict\n",
    "plt.plot(scaler.inverse_transform(df1))\n",
    "\n",
    "plt.plot(trainPredictPlot,label=\"train data\")\n",
    "plt.plot(testPredictPlot,label=\"test data\")\n",
    "plt.show()\n",
    "\n",
    "                                                       "
   ]
  },
  {
   "cell_type": "code",
   "execution_count": 28,
   "metadata": {},
   "outputs": [
    {
     "data": {
      "text/plain": [
       "842"
      ]
     },
     "execution_count": 28,
     "metadata": {},
     "output_type": "execute_result"
    }
   ],
   "source": [
    "len (test_data)"
   ]
  },
  {
   "cell_type": "code",
   "execution_count": 29,
   "metadata": {},
   "outputs": [
    {
     "data": {
      "text/plain": [
       "(1, 100)"
      ]
     },
     "execution_count": 29,
     "metadata": {},
     "output_type": "execute_result"
    }
   ],
   "source": [
    "x_input=test_data[742:].reshape(1,-1)\n",
    "x_input.shape\n",
    "\n"
   ]
  },
  {
   "cell_type": "code",
   "execution_count": 30,
   "metadata": {},
   "outputs": [],
   "source": [
    "temp_input=list(x_input)\n",
    "temp_input=temp_input[0].tolist()"
   ]
  },
  {
   "cell_type": "code",
   "execution_count": 31,
   "metadata": {},
   "outputs": [
    {
     "data": {
      "text/plain": [
       "100"
      ]
     },
     "execution_count": 31,
     "metadata": {},
     "output_type": "execute_result"
    }
   ],
   "source": [
    "len(temp_input)"
   ]
  },
  {
   "cell_type": "code",
   "execution_count": 32,
   "metadata": {},
   "outputs": [
    {
     "name": "stdout",
     "output_type": "stream",
     "text": [
      "(1, 100, 1)\n",
      "[0.9262432]\n",
      "101\n",
      "1 day input\n",
      "1 day output\n",
      "2 day input\n",
      "2 day output\n",
      "3 day input\n",
      "3 day output\n",
      "4 day input\n",
      "4 day output\n",
      "5 day input\n",
      "5 day output\n",
      "6 day input\n",
      "6 day output\n",
      "7 day input\n",
      "7 day output\n",
      "8 day input\n",
      "8 day output\n",
      "9 day input\n",
      "9 day output\n",
      "10 day input\n",
      "10 day output\n",
      "11 day input\n",
      "11 day output\n",
      "12 day input\n",
      "12 day output\n",
      "13 day input\n",
      "13 day output\n",
      "14 day input\n",
      "14 day output\n",
      "15 day input\n",
      "15 day output\n",
      "16 day input\n",
      "16 day output\n",
      "17 day input\n",
      "17 day output\n",
      "18 day input\n",
      "18 day output\n",
      "19 day input\n",
      "19 day output\n",
      "20 day input\n",
      "20 day output\n",
      "21 day input\n",
      "21 day output\n",
      "22 day input\n",
      "22 day output\n",
      "23 day input\n",
      "23 day output\n",
      "24 day input\n",
      "24 day output\n",
      "25 day input\n",
      "25 day output\n",
      "26 day input\n",
      "26 day output\n",
      "27 day input\n",
      "27 day output\n",
      "28 day input\n",
      "28 day output\n",
      "29 day input\n",
      "29 day output\n",
      "[[0.9262431859970093], [0.9042802453041077], [0.8854575157165527], [0.8726003170013428], [0.8646812438964844], [0.8598745465278625], [0.856315553188324], [0.8525888919830322], [0.8479260802268982], [0.8421639204025269], [0.8355599045753479], [0.8285655975341797], [0.8216313719749451], [0.8150858879089355], [0.8090927600860596], [0.8036670088768005], [0.798723578453064], [0.7941333055496216], [0.7897688746452332], [0.7855339050292969], [0.781372606754303], [0.7772675156593323], [0.7732269763946533], [0.7692722678184509], [0.765425980091095], [0.7617046236991882], [0.758114755153656], [0.7546550631523132], [0.7513173222541809], [0.7480900287628174]]\n"
     ]
    }
   ],
   "source": [
    "\n",
    "from numpy import array\n",
    "lst_output=[]\n",
    "n_steps=100\n",
    "i=0\n",
    "\n",
    "while(i<30):\n",
    "    \n",
    "    if(len(temp_input)>100):\n",
    "        x_input=np.array(temp_input[1:])\n",
    "        print(\"{} day input\".format(i,x_input))\n",
    "        x_input=x_input.reshape(1,-1)\n",
    "        x_input=x_input.reshape((1,n_steps,1))\n",
    "#         print(x_input)\n",
    "        yhat=model.predict(x_input,verbose=0)\n",
    "        print(\"{} day output\".format(i,yhat))\n",
    "        temp_input.extend(yhat[0].tolist())\n",
    "        temp_input=temp_input[1:]\n",
    "        lst_output.extend(yhat.tolist())\n",
    "        i=i+1\n",
    "    else:\n",
    "        x_input=x_input.reshape((1,n_steps,1))\n",
    "        print(x_input.shape)\n",
    "        yhat=model.predict(x_input,verbose=0)\n",
    "        print(yhat[0])\n",
    "        temp_input.extend(yhat[0].tolist())\n",
    "        print(len(temp_input))\n",
    "        lst_output.extend(yhat.tolist())\n",
    "        i=i+1\n",
    "        \n",
    "        \n",
    "print( lst_output)"
   ]
  },
  {
   "cell_type": "code",
   "execution_count": null,
   "metadata": {},
   "outputs": [],
   "source": []
  },
  {
   "cell_type": "code",
   "execution_count": 33,
   "metadata": {},
   "outputs": [],
   "source": [
    "day_new=np.arange(1,101)\n",
    "day_pred=np.arange(101,131)\n"
   ]
  },
  {
   "cell_type": "code",
   "execution_count": 34,
   "metadata": {},
   "outputs": [],
   "source": [
    "import matplotlib.pyplot as plt"
   ]
  },
  {
   "cell_type": "code",
   "execution_count": 35,
   "metadata": {},
   "outputs": [
    {
     "data": {
      "text/plain": [
       "3366"
      ]
     },
     "execution_count": 35,
     "metadata": {},
     "output_type": "execute_result"
    }
   ],
   "source": [
    "len(df1)"
   ]
  },
  {
   "cell_type": "code",
   "execution_count": 36,
   "metadata": {},
   "outputs": [],
   "source": [
    "df3=df1.tolist()\n",
    "df3.extend(lst_output)"
   ]
  },
  {
   "cell_type": "code",
   "execution_count": 37,
   "metadata": {},
   "outputs": [
    {
     "data": {
      "image/png": "[encoded data removed]",
      "text/plain": [
       "<Figure size 432x288 with 1 Axes>"
      ]
     },
     "metadata": {
      "needs_background": "light"
     },
     "output_type": "display_data"
    }
   ],
   "source": [
    "plt.plot(day_new,scaler.inverse_transform(df1[3266:]))\n",
    "plt.plot(day_pred,scaler.inverse_transform(lst_output))\n",
    "plt.legend([\"blue\", \"green\"])\n",
    "plt.xlabel('close price')\n",
    "plt.ylabel('close price')\n",
    "\n",
    "plt.xlim(df.close.min(), df.close.max()+20)\n",
    "plt.ylim(df.close.min(), df.close.max()+20)\n",
    "\n",
    "plt.legend([\"orignal data\", \"predicted data\"])\n",
    "plt.show()\n"
   ]
  },
  {
   "cell_type": "code",
   "execution_count": 38,
   "metadata": {},
   "outputs": [
    {
     "name": "stdout",
     "output_type": "stream",
     "text": [
      "Root mean square error :  9.132420383453235\n"
     ]
    }
   ],
   "source": [
    "rmse=np.sqrt(meansquareerror)\n",
    "print(\"Root mean square error : \",rmse)"
   ]
  },
  {
   "cell_type": "code",
   "execution_count": 63,
   "metadata": {},
   "outputs": [
    {
     "name": "stdout",
     "output_type": "stream",
     "text": [
      "Predicted :  [143.87894758 140.56737539 137.72928422 135.7906758  134.59663795\n",
      " 133.87188413 133.33525911 132.77335313 132.07029438 131.20147592\n",
      " 130.20572241 129.1511208  128.10557827 127.11865018 126.21500637\n",
      " 125.3969116  124.65154116 123.95941981 123.30135092 122.6628022\n",
      " 122.03536165 121.41639601 120.8071635  120.21087254 119.63092928\n",
      " 119.06982316 118.52854278 118.00689042 117.50362585 117.01701454]  \n",
      "\n",
      "\n",
      " Actual  : [138.1, 137.01, 133.9, 138.5, 138.45, 137.85, 134.02, 135.5, 139.5, 139.9, 140.3, 141.4, 141.01, 141.2, 141.11, 141.5, 139.03, 139.99, 141.65, 144.0, 146.15, 154.88, 155.0, 149.0, 147.0, 147.75, 148.01, 151.0, 148.5, 149.0]\n"
     ]
    }
   ],
   "source": [
    "actual=[]\n",
    "actual=df.close[3336:].tolist()\n",
    "predicted=scaler.inverse_transform(lst_output)\n",
    "predPrice=predicted.ravel()\n",
    "print(\"Predicted : \",predPrice,' \\n\\n\\n Actual  :',actual)"
   ]
  },
  {
   "cell_type": "code",
   "execution_count": 65,
   "metadata": {},
   "outputs": [],
   "source": [
    "# plt.plot(actual)\n",
    "# plt.plot(predPrice)\n",
    "# plt.title(\"Prediction For Next 30 Days\")\n",
    "# plt.legend([\"actual data\", \"predicted data\"]) \n",
    "# plt.plot()"
   ]
  },
  {
   "cell_type": "code",
   "execution_count": null,
   "metadata": {
    "scrolled": true
   },
   "outputs": [],
   "source": [
    "\n"
   ]
  },
  {
   "cell_type": "code",
   "execution_count": null,
   "metadata": {},
   "outputs": [],
   "source": []
  },
  {
   "cell_type": "code",
   "execution_count": null,
   "metadata": {},
   "outputs": [],
   "source": [
    "\n",
    "\n"
   ]
  },
  {
   "cell_type": "code",
   "execution_count": null,
   "metadata": {},
   "outputs": [],
   "source": []
  },
  {
   "cell_type": "code",
   "execution_count": null,
   "metadata": {},
   "outputs": [],
   "source": []
  }
 ],
 "metadata": {
  "kernelspec": {
   "display_name": "Python 3 (ipykernel)",
   "language": "python",
   "name": "python3"
  },
  "language_info": {
   "codemirror_mode": {
    "name": "ipython",
    "version": 3
   },
   "file_extension": ".py",
   "mimetype": "text/x-python",
   "name": "python",
   "nbconvert_exporter": "python",
   "pygments_lexer": "ipython3",
   "version": "3.9.7"
  }
 },
 "nbformat": 4,
 "nbformat_minor": 4
}
